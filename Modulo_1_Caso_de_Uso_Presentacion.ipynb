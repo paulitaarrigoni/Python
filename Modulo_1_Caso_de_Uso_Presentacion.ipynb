{
 "cells": [
  {
   "cell_type": "markdown",
   "metadata": {},
   "source": [
    "## En nuestra empresa, el equipo de ciencia del dato nos solicita que analicemos y preparemos un texto que luego ellos usarán para entrenar un modelo de Deep Learning.\n",
    "\n",
    "- El texto nos llega en formato **string**\n",
    "- Necesitaremos aislar las palabras que lo forman para poder manipularlas.\n",
    "- Una vez extraídas las palabras, nos piden lo siguiente:\n",
    "\n",
    "    * Cuántas palabras componen el texto.\n",
    "    * Cuántas veces se repiten las palabras dentro del texto, en promedio y por palabra.\n",
    "    * Almacenar el cómputo de veces que se repite cada palabra en orden alfabético.\n",
    "    * Cuántas veces se repite la palabra que más se repite y cuántas veces se repite la palabra que menos se repite.\n"
   ]
  },
  {
   "cell_type": "markdown",
   "metadata": {},
   "source": [
    "https://pypi.org/project/lorem/"
   ]
  },
  {
   "cell_type": "code",
   "execution_count": 1,
   "metadata": {},
   "outputs": [
    {
     "name": "stdout",
     "output_type": "stream",
     "text": [
      "Collecting lorem\n",
      "  Downloading lorem-0.1.1-py3-none-any.whl (5.0 kB)\n",
      "Installing collected packages: lorem\n",
      "Successfully installed lorem-0.1.1\n"
     ]
    }
   ],
   "source": [
    "!pip install lorem"
   ]
  },
  {
   "cell_type": "code",
   "execution_count": 6,
   "metadata": {},
   "outputs": [],
   "source": [
    "import lorem"
   ]
  },
  {
   "cell_type": "code",
   "execution_count": 8,
   "metadata": {},
   "outputs": [
    {
     "data": {
      "text/plain": [
       "'Numquam velit magnam quaerat numquam voluptatem voluptatem. Velit eius neque adipisci modi. Dolorem quiquia non porro est ut amet. Eius non etincidunt quisquam quiquia est labore. Sed dolorem adipisci non aliquam. Est modi non magnam numquam adipisci. Magnam neque est voluptatem modi est eius. Dolor porro aliquam etincidunt sit quisquam.\\n\\nIpsum dolorem dolore ut ut dolor. Magnam consectetur dolor quiquia dolorem porro sed. Etincidunt amet tempora adipisci porro neque dolore sit. Labore aliquam dolor adipisci quaerat dolorem voluptatem. Tempora numquam velit modi numquam. Modi etincidunt velit quisquam quiquia.\\n\\nSit etincidunt modi quiquia. Quisquam porro sit ipsum. Tempora velit porro modi. Eius eius quaerat numquam adipisci velit eius. Sed ipsum eius ipsum quiquia quaerat quisquam. Quaerat consectetur velit non magnam. Quaerat consectetur velit velit eius numquam quaerat dolor. Sed amet magnam modi. Sit velit quisquam adipisci dolorem aliquam velit. Ipsum non ipsum quisquam amet amet non.\\n\\nVelit modi consectetur consectetur dolore etincidunt est sit. Labore aliquam sed etincidunt eius etincidunt dolorem magnam. Dolor quisquam quisquam velit non dolor consectetur eius. Ipsum non quiquia quaerat. Quiquia aliquam dolorem dolor aliquam adipisci non. Numquam dolor modi aliquam dolorem sit numquam. Quisquam consectetur non eius amet non etincidunt. Quaerat porro sed non consectetur numquam. Etincidunt non adipisci dolorem aliquam ut. Ut consectetur sit quisquam dolore ipsum non dolore.\\n\\nAmet etincidunt sed ipsum. Labore modi neque adipisci non. Consectetur amet non adipisci. Sit labore numquam aliquam neque. Ut ipsum est adipisci quisquam. Neque magnam sed etincidunt porro.\\n\\nVoluptatem dolorem adipisci dolorem est quiquia quisquam. Ipsum non dolorem dolorem modi. Sit etincidunt ut modi est. Ipsum dolorem voluptatem magnam labore porro sed adipisci. Velit etincidunt dolorem magnam. Modi eius dolorem neque dolore eius.'"
      ]
     },
     "execution_count": 8,
     "metadata": {},
     "output_type": "execute_result"
    }
   ],
   "source": [
    "t = lorem.text()\n",
    "t"
   ]
  },
  {
   "cell_type": "markdown",
   "metadata": {},
   "source": [
    "1. Para aislar las palabras, vemos que no solo tenemos palabras sino también caracteres especiales:"
   ]
  },
  {
   "cell_type": "code",
   "execution_count": 9,
   "metadata": {},
   "outputs": [
    {
     "data": {
      "text/plain": [
       "'Numquam velit magnam quaerat numquam voluptatem voluptatem Velit eius neque adipisci modi Dolorem quiquia non porro est ut amet Eius non etincidunt quisquam quiquia est labore Sed dolorem adipisci non aliquam Est modi non magnam numquam adipisci Magnam neque est voluptatem modi est eius Dolor porro aliquam etincidunt sit quisquam\\n\\nIpsum dolorem dolore ut ut dolor Magnam consectetur dolor quiquia dolorem porro sed Etincidunt amet tempora adipisci porro neque dolore sit Labore aliquam dolor adipisci quaerat dolorem voluptatem Tempora numquam velit modi numquam Modi etincidunt velit quisquam quiquia\\n\\nSit etincidunt modi quiquia Quisquam porro sit ipsum Tempora velit porro modi Eius eius quaerat numquam adipisci velit eius Sed ipsum eius ipsum quiquia quaerat quisquam Quaerat consectetur velit non magnam Quaerat consectetur velit velit eius numquam quaerat dolor Sed amet magnam modi Sit velit quisquam adipisci dolorem aliquam velit Ipsum non ipsum quisquam amet amet non\\n\\nVelit modi consectetur consectetur dolore etincidunt est sit Labore aliquam sed etincidunt eius etincidunt dolorem magnam Dolor quisquam quisquam velit non dolor consectetur eius Ipsum non quiquia quaerat Quiquia aliquam dolorem dolor aliquam adipisci non Numquam dolor modi aliquam dolorem sit numquam Quisquam consectetur non eius amet non etincidunt Quaerat porro sed non consectetur numquam Etincidunt non adipisci dolorem aliquam ut Ut consectetur sit quisquam dolore ipsum non dolore\\n\\nAmet etincidunt sed ipsum Labore modi neque adipisci non Consectetur amet non adipisci Sit labore numquam aliquam neque Ut ipsum est adipisci quisquam Neque magnam sed etincidunt porro\\n\\nVoluptatem dolorem adipisci dolorem est quiquia quisquam Ipsum non dolorem dolorem modi Sit etincidunt ut modi est Ipsum dolorem voluptatem magnam labore porro sed adipisci Velit etincidunt dolorem magnam Modi eius dolorem neque dolore eius'"
      ]
     },
     "execution_count": 9,
     "metadata": {},
     "output_type": "execute_result"
    }
   ],
   "source": [
    "t_limpio = t.replace ('.','')\n",
    "t_limpio "
   ]
  },
  {
   "cell_type": "markdown",
   "metadata": {},
   "source": [
    "Otra manera es hacerlo con la biblioteca string"
   ]
  },
  {
   "cell_type": "code",
   "execution_count": 10,
   "metadata": {},
   "outputs": [
    {
     "data": {
      "text/plain": [
       "'!\"#$%&\\'()*+,-./:;<=>?@[\\\\]^_`{|}~'"
      ]
     },
     "execution_count": 10,
     "metadata": {},
     "output_type": "execute_result"
    }
   ],
   "source": [
    "import string\n",
    "string.punctuation"
   ]
  },
  {
   "cell_type": "markdown",
   "metadata": {},
   "source": [
    "Si necesitamos agregar mas caracteres a string.punctuation, lo hacemos de la siguiente manera:"
   ]
  },
  {
   "cell_type": "code",
   "execution_count": 11,
   "metadata": {},
   "outputs": [
    {
     "name": "stdout",
     "output_type": "stream",
     "text": [
      "!\"#$%&'()*+,-./:;<=>?@[\\]^_`{|}~ Clase:  <class 'str'>\n"
     ]
    }
   ],
   "source": [
    "print(string.punctuation, 'Clase: ', type(string.punctuation))"
   ]
  },
  {
   "cell_type": "code",
   "execution_count": 14,
   "metadata": {},
   "outputs": [
    {
     "name": "stdout",
     "output_type": "stream",
     "text": [
      "!\"#$%&'()*+,-./:;<=>?@[\\]^_`{|}~¡¡\n"
     ]
    }
   ],
   "source": [
    "string.punctuation = string.punctuation + '¡'\n",
    "print(string.punctuation)"
   ]
  },
  {
   "cell_type": "code",
   "execution_count": 15,
   "metadata": {},
   "outputs": [
    {
     "name": "stdout",
     "output_type": "stream",
     "text": [
      "Numquam velit magnam quaerat numquam voluptatem voluptatem Velit eius neque adipisci modi Dolorem quiquia non porro est ut amet Eius non etincidunt quisquam quiquia est labore Sed dolorem adipisci non aliquam Est modi non magnam numquam adipisci Magnam neque est voluptatem modi est eius Dolor porro aliquam etincidunt sit quisquam\n",
      "\n",
      "Ipsum dolorem dolore ut ut dolor Magnam consectetur dolor quiquia dolorem porro sed Etincidunt amet tempora adipisci porro neque dolore sit Labore aliquam dolor adipisci quaerat dolorem voluptatem Tempora numquam velit modi numquam Modi etincidunt velit quisquam quiquia\n",
      "\n",
      "Sit etincidunt modi quiquia Quisquam porro sit ipsum Tempora velit porro modi Eius eius quaerat numquam adipisci velit eius Sed ipsum eius ipsum quiquia quaerat quisquam Quaerat consectetur velit non magnam Quaerat consectetur velit velit eius numquam quaerat dolor Sed amet magnam modi Sit velit quisquam adipisci dolorem aliquam velit Ipsum non ipsum quisquam amet amet non\n",
      "\n",
      "Velit modi consectetur consectetur dolore etincidunt est sit Labore aliquam sed etincidunt eius etincidunt dolorem magnam Dolor quisquam quisquam velit non dolor consectetur eius Ipsum non quiquia quaerat Quiquia aliquam dolorem dolor aliquam adipisci non Numquam dolor modi aliquam dolorem sit numquam Quisquam consectetur non eius amet non etincidunt Quaerat porro sed non consectetur numquam Etincidunt non adipisci dolorem aliquam ut Ut consectetur sit quisquam dolore ipsum non dolore\n",
      "\n",
      "Amet etincidunt sed ipsum Labore modi neque adipisci non Consectetur amet non adipisci Sit labore numquam aliquam neque Ut ipsum est adipisci quisquam Neque magnam sed etincidunt porro\n",
      "\n",
      "Voluptatem dolorem adipisci dolorem est quiquia quisquam Ipsum non dolorem dolorem modi Sit etincidunt ut modi est Ipsum dolorem voluptatem magnam labore porro sed adipisci Velit etincidunt dolorem magnam Modi eius dolorem neque dolore eius\n"
     ]
    }
   ],
   "source": [
    "tabla_traduccion = str.maketrans('','',string.punctuation)\n",
    "texto_limpio = t.translate(tabla_traduccion)\n",
    "print(texto_limpio)"
   ]
  },
  {
   "cell_type": "markdown",
   "metadata": {},
   "source": [
    "2. Poner todas las palabras en minúscula "
   ]
  },
  {
   "cell_type": "code",
   "execution_count": 16,
   "metadata": {},
   "outputs": [
    {
     "data": {
      "text/plain": [
       "'numquam velit magnam quaerat numquam voluptatem voluptatem velit eius neque adipisci modi dolorem quiquia non porro est ut amet eius non etincidunt quisquam quiquia est labore sed dolorem adipisci non aliquam est modi non magnam numquam adipisci magnam neque est voluptatem modi est eius dolor porro aliquam etincidunt sit quisquam\\n\\nipsum dolorem dolore ut ut dolor magnam consectetur dolor quiquia dolorem porro sed etincidunt amet tempora adipisci porro neque dolore sit labore aliquam dolor adipisci quaerat dolorem voluptatem tempora numquam velit modi numquam modi etincidunt velit quisquam quiquia\\n\\nsit etincidunt modi quiquia quisquam porro sit ipsum tempora velit porro modi eius eius quaerat numquam adipisci velit eius sed ipsum eius ipsum quiquia quaerat quisquam quaerat consectetur velit non magnam quaerat consectetur velit velit eius numquam quaerat dolor sed amet magnam modi sit velit quisquam adipisci dolorem aliquam velit ipsum non ipsum quisquam amet amet non\\n\\nvelit modi consectetur consectetur dolore etincidunt est sit labore aliquam sed etincidunt eius etincidunt dolorem magnam dolor quisquam quisquam velit non dolor consectetur eius ipsum non quiquia quaerat quiquia aliquam dolorem dolor aliquam adipisci non numquam dolor modi aliquam dolorem sit numquam quisquam consectetur non eius amet non etincidunt quaerat porro sed non consectetur numquam etincidunt non adipisci dolorem aliquam ut ut consectetur sit quisquam dolore ipsum non dolore\\n\\namet etincidunt sed ipsum labore modi neque adipisci non consectetur amet non adipisci sit labore numquam aliquam neque ut ipsum est adipisci quisquam neque magnam sed etincidunt porro\\n\\nvoluptatem dolorem adipisci dolorem est quiquia quisquam ipsum non dolorem dolorem modi sit etincidunt ut modi est ipsum dolorem voluptatem magnam labore porro sed adipisci velit etincidunt dolorem magnam modi eius dolorem neque dolore eius'"
      ]
     },
     "execution_count": 16,
     "metadata": {},
     "output_type": "execute_result"
    }
   ],
   "source": [
    "texto_limpio = texto_limpio.lower()\n",
    "texto_limpio"
   ]
  },
  {
   "cell_type": "markdown",
   "metadata": {},
   "source": [
    "3. Extraemos las palabras del texto, para eso primero separamos el texto en palabras"
   ]
  },
  {
   "cell_type": "code",
   "execution_count": 17,
   "metadata": {},
   "outputs": [
    {
     "data": {
      "text/plain": [
       "['numquam',\n",
       " 'velit',\n",
       " 'magnam',\n",
       " 'quaerat',\n",
       " 'numquam',\n",
       " 'voluptatem',\n",
       " 'voluptatem',\n",
       " 'velit',\n",
       " 'eius',\n",
       " 'neque',\n",
       " 'adipisci',\n",
       " 'modi',\n",
       " 'dolorem',\n",
       " 'quiquia',\n",
       " 'non',\n",
       " 'porro',\n",
       " 'est',\n",
       " 'ut',\n",
       " 'amet',\n",
       " 'eius',\n",
       " 'non',\n",
       " 'etincidunt',\n",
       " 'quisquam',\n",
       " 'quiquia',\n",
       " 'est',\n",
       " 'labore',\n",
       " 'sed',\n",
       " 'dolorem',\n",
       " 'adipisci',\n",
       " 'non',\n",
       " 'aliquam',\n",
       " 'est',\n",
       " 'modi',\n",
       " 'non',\n",
       " 'magnam',\n",
       " 'numquam',\n",
       " 'adipisci',\n",
       " 'magnam',\n",
       " 'neque',\n",
       " 'est',\n",
       " 'voluptatem',\n",
       " 'modi',\n",
       " 'est',\n",
       " 'eius',\n",
       " 'dolor',\n",
       " 'porro',\n",
       " 'aliquam',\n",
       " 'etincidunt',\n",
       " 'sit',\n",
       " 'quisquam',\n",
       " 'ipsum',\n",
       " 'dolorem',\n",
       " 'dolore',\n",
       " 'ut',\n",
       " 'ut',\n",
       " 'dolor',\n",
       " 'magnam',\n",
       " 'consectetur',\n",
       " 'dolor',\n",
       " 'quiquia',\n",
       " 'dolorem',\n",
       " 'porro',\n",
       " 'sed',\n",
       " 'etincidunt',\n",
       " 'amet',\n",
       " 'tempora',\n",
       " 'adipisci',\n",
       " 'porro',\n",
       " 'neque',\n",
       " 'dolore',\n",
       " 'sit',\n",
       " 'labore',\n",
       " 'aliquam',\n",
       " 'dolor',\n",
       " 'adipisci',\n",
       " 'quaerat',\n",
       " 'dolorem',\n",
       " 'voluptatem',\n",
       " 'tempora',\n",
       " 'numquam',\n",
       " 'velit',\n",
       " 'modi',\n",
       " 'numquam',\n",
       " 'modi',\n",
       " 'etincidunt',\n",
       " 'velit',\n",
       " 'quisquam',\n",
       " 'quiquia',\n",
       " 'sit',\n",
       " 'etincidunt',\n",
       " 'modi',\n",
       " 'quiquia',\n",
       " 'quisquam',\n",
       " 'porro',\n",
       " 'sit',\n",
       " 'ipsum',\n",
       " 'tempora',\n",
       " 'velit',\n",
       " 'porro',\n",
       " 'modi',\n",
       " 'eius',\n",
       " 'eius',\n",
       " 'quaerat',\n",
       " 'numquam',\n",
       " 'adipisci',\n",
       " 'velit',\n",
       " 'eius',\n",
       " 'sed',\n",
       " 'ipsum',\n",
       " 'eius',\n",
       " 'ipsum',\n",
       " 'quiquia',\n",
       " 'quaerat',\n",
       " 'quisquam',\n",
       " 'quaerat',\n",
       " 'consectetur',\n",
       " 'velit',\n",
       " 'non',\n",
       " 'magnam',\n",
       " 'quaerat',\n",
       " 'consectetur',\n",
       " 'velit',\n",
       " 'velit',\n",
       " 'eius',\n",
       " 'numquam',\n",
       " 'quaerat',\n",
       " 'dolor',\n",
       " 'sed',\n",
       " 'amet',\n",
       " 'magnam',\n",
       " 'modi',\n",
       " 'sit',\n",
       " 'velit',\n",
       " 'quisquam',\n",
       " 'adipisci',\n",
       " 'dolorem',\n",
       " 'aliquam',\n",
       " 'velit',\n",
       " 'ipsum',\n",
       " 'non',\n",
       " 'ipsum',\n",
       " 'quisquam',\n",
       " 'amet',\n",
       " 'amet',\n",
       " 'non',\n",
       " 'velit',\n",
       " 'modi',\n",
       " 'consectetur',\n",
       " 'consectetur',\n",
       " 'dolore',\n",
       " 'etincidunt',\n",
       " 'est',\n",
       " 'sit',\n",
       " 'labore',\n",
       " 'aliquam',\n",
       " 'sed',\n",
       " 'etincidunt',\n",
       " 'eius',\n",
       " 'etincidunt',\n",
       " 'dolorem',\n",
       " 'magnam',\n",
       " 'dolor',\n",
       " 'quisquam',\n",
       " 'quisquam',\n",
       " 'velit',\n",
       " 'non',\n",
       " 'dolor',\n",
       " 'consectetur',\n",
       " 'eius',\n",
       " 'ipsum',\n",
       " 'non',\n",
       " 'quiquia',\n",
       " 'quaerat',\n",
       " 'quiquia',\n",
       " 'aliquam',\n",
       " 'dolorem',\n",
       " 'dolor',\n",
       " 'aliquam',\n",
       " 'adipisci',\n",
       " 'non',\n",
       " 'numquam',\n",
       " 'dolor',\n",
       " 'modi',\n",
       " 'aliquam',\n",
       " 'dolorem',\n",
       " 'sit',\n",
       " 'numquam',\n",
       " 'quisquam',\n",
       " 'consectetur',\n",
       " 'non',\n",
       " 'eius',\n",
       " 'amet',\n",
       " 'non',\n",
       " 'etincidunt',\n",
       " 'quaerat',\n",
       " 'porro',\n",
       " 'sed',\n",
       " 'non',\n",
       " 'consectetur',\n",
       " 'numquam',\n",
       " 'etincidunt',\n",
       " 'non',\n",
       " 'adipisci',\n",
       " 'dolorem',\n",
       " 'aliquam',\n",
       " 'ut',\n",
       " 'ut',\n",
       " 'consectetur',\n",
       " 'sit',\n",
       " 'quisquam',\n",
       " 'dolore',\n",
       " 'ipsum',\n",
       " 'non',\n",
       " 'dolore',\n",
       " 'amet',\n",
       " 'etincidunt',\n",
       " 'sed',\n",
       " 'ipsum',\n",
       " 'labore',\n",
       " 'modi',\n",
       " 'neque',\n",
       " 'adipisci',\n",
       " 'non',\n",
       " 'consectetur',\n",
       " 'amet',\n",
       " 'non',\n",
       " 'adipisci',\n",
       " 'sit',\n",
       " 'labore',\n",
       " 'numquam',\n",
       " 'aliquam',\n",
       " 'neque',\n",
       " 'ut',\n",
       " 'ipsum',\n",
       " 'est',\n",
       " 'adipisci',\n",
       " 'quisquam',\n",
       " 'neque',\n",
       " 'magnam',\n",
       " 'sed',\n",
       " 'etincidunt',\n",
       " 'porro',\n",
       " 'voluptatem',\n",
       " 'dolorem',\n",
       " 'adipisci',\n",
       " 'dolorem',\n",
       " 'est',\n",
       " 'quiquia',\n",
       " 'quisquam',\n",
       " 'ipsum',\n",
       " 'non',\n",
       " 'dolorem',\n",
       " 'dolorem',\n",
       " 'modi',\n",
       " 'sit',\n",
       " 'etincidunt',\n",
       " 'ut',\n",
       " 'modi',\n",
       " 'est',\n",
       " 'ipsum',\n",
       " 'dolorem',\n",
       " 'voluptatem',\n",
       " 'magnam',\n",
       " 'labore',\n",
       " 'porro',\n",
       " 'sed',\n",
       " 'adipisci',\n",
       " 'velit',\n",
       " 'etincidunt',\n",
       " 'dolorem',\n",
       " 'magnam',\n",
       " 'modi',\n",
       " 'eius',\n",
       " 'dolorem',\n",
       " 'neque',\n",
       " 'dolore',\n",
       " 'eius']"
      ]
     },
     "execution_count": 17,
     "metadata": {},
     "output_type": "execute_result"
    }
   ],
   "source": [
    "texto_limpio.split()"
   ]
  },
  {
   "cell_type": "code",
   "execution_count": 18,
   "metadata": {},
   "outputs": [],
   "source": [
    "palabras = texto_limpio.split()"
   ]
  },
  {
   "cell_type": "code",
   "execution_count": 19,
   "metadata": {},
   "outputs": [
    {
     "data": {
      "text/plain": [
       "['numquam',\n",
       " 'velit',\n",
       " 'magnam',\n",
       " 'quaerat',\n",
       " 'numquam',\n",
       " 'voluptatem',\n",
       " 'voluptatem',\n",
       " 'velit',\n",
       " 'eius',\n",
       " 'neque',\n",
       " 'adipisci',\n",
       " 'modi',\n",
       " 'dolorem',\n",
       " 'quiquia',\n",
       " 'non',\n",
       " 'porro',\n",
       " 'est',\n",
       " 'ut',\n",
       " 'amet',\n",
       " 'eius',\n",
       " 'non',\n",
       " 'etincidunt',\n",
       " 'quisquam',\n",
       " 'quiquia',\n",
       " 'est',\n",
       " 'labore',\n",
       " 'sed',\n",
       " 'dolorem',\n",
       " 'adipisci',\n",
       " 'non',\n",
       " 'aliquam',\n",
       " 'est',\n",
       " 'modi',\n",
       " 'non',\n",
       " 'magnam',\n",
       " 'numquam',\n",
       " 'adipisci',\n",
       " 'magnam',\n",
       " 'neque',\n",
       " 'est',\n",
       " 'voluptatem',\n",
       " 'modi',\n",
       " 'est',\n",
       " 'eius',\n",
       " 'dolor',\n",
       " 'porro',\n",
       " 'aliquam',\n",
       " 'etincidunt',\n",
       " 'sit',\n",
       " 'quisquam',\n",
       " 'ipsum',\n",
       " 'dolorem',\n",
       " 'dolore',\n",
       " 'ut',\n",
       " 'ut',\n",
       " 'dolor',\n",
       " 'magnam',\n",
       " 'consectetur',\n",
       " 'dolor',\n",
       " 'quiquia',\n",
       " 'dolorem',\n",
       " 'porro',\n",
       " 'sed',\n",
       " 'etincidunt',\n",
       " 'amet',\n",
       " 'tempora',\n",
       " 'adipisci',\n",
       " 'porro',\n",
       " 'neque',\n",
       " 'dolore',\n",
       " 'sit',\n",
       " 'labore',\n",
       " 'aliquam',\n",
       " 'dolor',\n",
       " 'adipisci',\n",
       " 'quaerat',\n",
       " 'dolorem',\n",
       " 'voluptatem',\n",
       " 'tempora',\n",
       " 'numquam',\n",
       " 'velit',\n",
       " 'modi',\n",
       " 'numquam',\n",
       " 'modi',\n",
       " 'etincidunt',\n",
       " 'velit',\n",
       " 'quisquam',\n",
       " 'quiquia',\n",
       " 'sit',\n",
       " 'etincidunt',\n",
       " 'modi',\n",
       " 'quiquia',\n",
       " 'quisquam',\n",
       " 'porro',\n",
       " 'sit',\n",
       " 'ipsum',\n",
       " 'tempora',\n",
       " 'velit',\n",
       " 'porro',\n",
       " 'modi',\n",
       " 'eius',\n",
       " 'eius',\n",
       " 'quaerat',\n",
       " 'numquam',\n",
       " 'adipisci',\n",
       " 'velit',\n",
       " 'eius',\n",
       " 'sed',\n",
       " 'ipsum',\n",
       " 'eius',\n",
       " 'ipsum',\n",
       " 'quiquia',\n",
       " 'quaerat',\n",
       " 'quisquam',\n",
       " 'quaerat',\n",
       " 'consectetur',\n",
       " 'velit',\n",
       " 'non',\n",
       " 'magnam',\n",
       " 'quaerat',\n",
       " 'consectetur',\n",
       " 'velit',\n",
       " 'velit',\n",
       " 'eius',\n",
       " 'numquam',\n",
       " 'quaerat',\n",
       " 'dolor',\n",
       " 'sed',\n",
       " 'amet',\n",
       " 'magnam',\n",
       " 'modi',\n",
       " 'sit',\n",
       " 'velit',\n",
       " 'quisquam',\n",
       " 'adipisci',\n",
       " 'dolorem',\n",
       " 'aliquam',\n",
       " 'velit',\n",
       " 'ipsum',\n",
       " 'non',\n",
       " 'ipsum',\n",
       " 'quisquam',\n",
       " 'amet',\n",
       " 'amet',\n",
       " 'non',\n",
       " 'velit',\n",
       " 'modi',\n",
       " 'consectetur',\n",
       " 'consectetur',\n",
       " 'dolore',\n",
       " 'etincidunt',\n",
       " 'est',\n",
       " 'sit',\n",
       " 'labore',\n",
       " 'aliquam',\n",
       " 'sed',\n",
       " 'etincidunt',\n",
       " 'eius',\n",
       " 'etincidunt',\n",
       " 'dolorem',\n",
       " 'magnam',\n",
       " 'dolor',\n",
       " 'quisquam',\n",
       " 'quisquam',\n",
       " 'velit',\n",
       " 'non',\n",
       " 'dolor',\n",
       " 'consectetur',\n",
       " 'eius',\n",
       " 'ipsum',\n",
       " 'non',\n",
       " 'quiquia',\n",
       " 'quaerat',\n",
       " 'quiquia',\n",
       " 'aliquam',\n",
       " 'dolorem',\n",
       " 'dolor',\n",
       " 'aliquam',\n",
       " 'adipisci',\n",
       " 'non',\n",
       " 'numquam',\n",
       " 'dolor',\n",
       " 'modi',\n",
       " 'aliquam',\n",
       " 'dolorem',\n",
       " 'sit',\n",
       " 'numquam',\n",
       " 'quisquam',\n",
       " 'consectetur',\n",
       " 'non',\n",
       " 'eius',\n",
       " 'amet',\n",
       " 'non',\n",
       " 'etincidunt',\n",
       " 'quaerat',\n",
       " 'porro',\n",
       " 'sed',\n",
       " 'non',\n",
       " 'consectetur',\n",
       " 'numquam',\n",
       " 'etincidunt',\n",
       " 'non',\n",
       " 'adipisci',\n",
       " 'dolorem',\n",
       " 'aliquam',\n",
       " 'ut',\n",
       " 'ut',\n",
       " 'consectetur',\n",
       " 'sit',\n",
       " 'quisquam',\n",
       " 'dolore',\n",
       " 'ipsum',\n",
       " 'non',\n",
       " 'dolore',\n",
       " 'amet',\n",
       " 'etincidunt',\n",
       " 'sed',\n",
       " 'ipsum',\n",
       " 'labore',\n",
       " 'modi',\n",
       " 'neque',\n",
       " 'adipisci',\n",
       " 'non',\n",
       " 'consectetur',\n",
       " 'amet',\n",
       " 'non',\n",
       " 'adipisci',\n",
       " 'sit',\n",
       " 'labore',\n",
       " 'numquam',\n",
       " 'aliquam',\n",
       " 'neque',\n",
       " 'ut',\n",
       " 'ipsum',\n",
       " 'est',\n",
       " 'adipisci',\n",
       " 'quisquam',\n",
       " 'neque',\n",
       " 'magnam',\n",
       " 'sed',\n",
       " 'etincidunt',\n",
       " 'porro',\n",
       " 'voluptatem',\n",
       " 'dolorem',\n",
       " 'adipisci',\n",
       " 'dolorem',\n",
       " 'est',\n",
       " 'quiquia',\n",
       " 'quisquam',\n",
       " 'ipsum',\n",
       " 'non',\n",
       " 'dolorem',\n",
       " 'dolorem',\n",
       " 'modi',\n",
       " 'sit',\n",
       " 'etincidunt',\n",
       " 'ut',\n",
       " 'modi',\n",
       " 'est',\n",
       " 'ipsum',\n",
       " 'dolorem',\n",
       " 'voluptatem',\n",
       " 'magnam',\n",
       " 'labore',\n",
       " 'porro',\n",
       " 'sed',\n",
       " 'adipisci',\n",
       " 'velit',\n",
       " 'etincidunt',\n",
       " 'dolorem',\n",
       " 'magnam',\n",
       " 'modi',\n",
       " 'eius',\n",
       " 'dolorem',\n",
       " 'neque',\n",
       " 'dolore',\n",
       " 'eius']"
      ]
     },
     "execution_count": 19,
     "metadata": {},
     "output_type": "execute_result"
    }
   ],
   "source": [
    "palabras"
   ]
  },
  {
   "cell_type": "markdown",
   "metadata": {},
   "source": [
    "4. Vemos cuantas palabras tiene el texto "
   ]
  },
  {
   "cell_type": "code",
   "execution_count": 20,
   "metadata": {},
   "outputs": [
    {
     "data": {
      "text/plain": [
       "277"
      ]
     },
     "execution_count": 20,
     "metadata": {},
     "output_type": "execute_result"
    }
   ],
   "source": [
    "len(palabras)"
   ]
  },
  {
   "cell_type": "markdown",
   "metadata": {},
   "source": [
    "5. Para eliminar las palabras repetidas, transformamos la lista en un conjunto que no acepta repeticiones"
   ]
  },
  {
   "cell_type": "code",
   "execution_count": 21,
   "metadata": {},
   "outputs": [
    {
     "data": {
      "text/plain": [
       "{'adipisci',\n",
       " 'aliquam',\n",
       " 'amet',\n",
       " 'consectetur',\n",
       " 'dolor',\n",
       " 'dolore',\n",
       " 'dolorem',\n",
       " 'eius',\n",
       " 'est',\n",
       " 'etincidunt',\n",
       " 'ipsum',\n",
       " 'labore',\n",
       " 'magnam',\n",
       " 'modi',\n",
       " 'neque',\n",
       " 'non',\n",
       " 'numquam',\n",
       " 'porro',\n",
       " 'quaerat',\n",
       " 'quiquia',\n",
       " 'quisquam',\n",
       " 'sed',\n",
       " 'sit',\n",
       " 'tempora',\n",
       " 'ut',\n",
       " 'velit',\n",
       " 'voluptatem'}"
      ]
     },
     "execution_count": 21,
     "metadata": {},
     "output_type": "execute_result"
    }
   ],
   "source": [
    "palabras_unicas = set(palabras)\n",
    "palabras_unicas"
   ]
  },
  {
   "cell_type": "code",
   "execution_count": 22,
   "metadata": {},
   "outputs": [
    {
     "data": {
      "text/plain": [
       "27"
      ]
     },
     "execution_count": 22,
     "metadata": {},
     "output_type": "execute_result"
    }
   ],
   "source": [
    "len(palabras_unicas)"
   ]
  },
  {
   "cell_type": "code",
   "execution_count": 23,
   "metadata": {},
   "outputs": [],
   "source": [
    "palabras_unicas = list(palabras_unicas)"
   ]
  },
  {
   "cell_type": "code",
   "execution_count": 24,
   "metadata": {},
   "outputs": [
    {
     "data": {
      "text/plain": [
       "['adipisci',\n",
       " 'tempora',\n",
       " 'sed',\n",
       " 'modi',\n",
       " 'magnam',\n",
       " 'est',\n",
       " 'consectetur',\n",
       " 'quaerat',\n",
       " 'voluptatem',\n",
       " 'aliquam',\n",
       " 'velit',\n",
       " 'dolor',\n",
       " 'ipsum',\n",
       " 'ut',\n",
       " 'numquam',\n",
       " 'sit',\n",
       " 'quiquia',\n",
       " 'etincidunt',\n",
       " 'labore',\n",
       " 'amet',\n",
       " 'eius',\n",
       " 'dolorem',\n",
       " 'quisquam',\n",
       " 'dolore',\n",
       " 'porro',\n",
       " 'neque',\n",
       " 'non']"
      ]
     },
     "execution_count": 24,
     "metadata": {},
     "output_type": "execute_result"
    }
   ],
   "source": [
    "palabras_unicas"
   ]
  },
  {
   "cell_type": "markdown",
   "metadata": {},
   "source": [
    "6. Calculamos el promedio de repeticion de las palabras "
   ]
  },
  {
   "cell_type": "code",
   "execution_count": 26,
   "metadata": {},
   "outputs": [
    {
     "data": {
      "text/plain": [
       "10.26"
      ]
     },
     "execution_count": 26,
     "metadata": {},
     "output_type": "execute_result"
    }
   ],
   "source": [
    "round(len(palabras)/len(palabras_unicas),2)"
   ]
  },
  {
   "cell_type": "markdown",
   "metadata": {},
   "source": [
    "Comprobamos que este promedio sea correcto:"
   ]
  },
  {
   "cell_type": "code",
   "execution_count": 27,
   "metadata": {},
   "outputs": [
    {
     "data": {
      "text/plain": [
       "6"
      ]
     },
     "execution_count": 27,
     "metadata": {},
     "output_type": "execute_result"
    }
   ],
   "source": [
    "palabras.count('dolore')"
   ]
  },
  {
   "cell_type": "code",
   "execution_count": 28,
   "metadata": {},
   "outputs": [
    {
     "data": {
      "text/plain": [
       "9"
      ]
     },
     "execution_count": 28,
     "metadata": {},
     "output_type": "execute_result"
    }
   ],
   "source": [
    "palabras.count('est')"
   ]
  },
  {
   "cell_type": "code",
   "execution_count": 30,
   "metadata": {},
   "outputs": [
    {
     "data": {
      "text/plain": [
       "7"
      ]
     },
     "execution_count": 30,
     "metadata": {},
     "output_type": "execute_result"
    }
   ],
   "source": [
    "palabras.count('ut')"
   ]
  },
  {
   "cell_type": "markdown",
   "metadata": {},
   "source": [
    "7. Creamos un diccionario donde la clave es la palabra y el valor la cantidad de veces que se repite la palabra en el texto"
   ]
  },
  {
   "cell_type": "markdown",
   "metadata": {},
   "source": [
    "Para eso primero ordenamos las palabras en orden alfabetico "
   ]
  },
  {
   "cell_type": "code",
   "execution_count": 31,
   "metadata": {},
   "outputs": [],
   "source": [
    "palabras_unicas.sort()"
   ]
  },
  {
   "cell_type": "code",
   "execution_count": 32,
   "metadata": {},
   "outputs": [
    {
     "data": {
      "text/plain": [
       "['adipisci',\n",
       " 'aliquam',\n",
       " 'amet',\n",
       " 'consectetur',\n",
       " 'dolor',\n",
       " 'dolore',\n",
       " 'dolorem',\n",
       " 'eius',\n",
       " 'est',\n",
       " 'etincidunt',\n",
       " 'ipsum',\n",
       " 'labore',\n",
       " 'magnam',\n",
       " 'modi',\n",
       " 'neque',\n",
       " 'non',\n",
       " 'numquam',\n",
       " 'porro',\n",
       " 'quaerat',\n",
       " 'quiquia',\n",
       " 'quisquam',\n",
       " 'sed',\n",
       " 'sit',\n",
       " 'tempora',\n",
       " 'ut',\n",
       " 'velit',\n",
       " 'voluptatem']"
      ]
     },
     "execution_count": 32,
     "metadata": {},
     "output_type": "execute_result"
    }
   ],
   "source": [
    "palabras_unicas"
   ]
  },
  {
   "cell_type": "markdown",
   "metadata": {},
   "source": [
    "ahora sobre palabras_unicas ordenadas alfabeticamente creamos el diccionario "
   ]
  },
  {
   "cell_type": "code",
   "execution_count": 33,
   "metadata": {},
   "outputs": [],
   "source": [
    "ocurrencias = {}"
   ]
  },
  {
   "cell_type": "code",
   "execution_count": 34,
   "metadata": {},
   "outputs": [
    {
     "data": {
      "text/plain": [
       "14"
      ]
     },
     "execution_count": 34,
     "metadata": {},
     "output_type": "execute_result"
    }
   ],
   "source": [
    "palabras.count(palabras_unicas [0])"
   ]
  },
  {
   "cell_type": "markdown",
   "metadata": {},
   "source": [
    "para no hacerlo manualmente, lo que vamos hacer es hacer un bucle "
   ]
  },
  {
   "cell_type": "code",
   "execution_count": 35,
   "metadata": {},
   "outputs": [
    {
     "data": {
      "text/plain": [
       "{'adipisci': 14,\n",
       " 'aliquam': 10,\n",
       " 'amet': 8,\n",
       " 'consectetur': 10,\n",
       " 'dolor': 9,\n",
       " 'dolore': 6,\n",
       " 'dolorem': 17,\n",
       " 'eius': 13,\n",
       " 'est': 9,\n",
       " 'etincidunt': 14,\n",
       " 'ipsum': 12,\n",
       " 'labore': 6,\n",
       " 'magnam': 10,\n",
       " 'modi': 14,\n",
       " 'neque': 7,\n",
       " 'non': 18,\n",
       " 'numquam': 11,\n",
       " 'porro': 9,\n",
       " 'quaerat': 9,\n",
       " 'quiquia': 9,\n",
       " 'quisquam': 13,\n",
       " 'sed': 9,\n",
       " 'sit': 10,\n",
       " 'tempora': 3,\n",
       " 'ut': 7,\n",
       " 'velit': 14,\n",
       " 'voluptatem': 6}"
      ]
     },
     "execution_count": 35,
     "metadata": {},
     "output_type": "execute_result"
    }
   ],
   "source": [
    "for palabra in palabras_unicas:\n",
    "    ocurrencias [palabra] = palabras.count(palabra)\n",
    "ocurrencias"
   ]
  },
  {
   "cell_type": "markdown",
   "metadata": {},
   "source": [
    "8. Ahora vemos cual es la palabra que mas se repite y cual es la palabra que menos se repite"
   ]
  },
  {
   "cell_type": "code",
   "execution_count": 36,
   "metadata": {},
   "outputs": [
    {
     "data": {
      "text/plain": [
       "dict_values([14, 10, 8, 10, 9, 6, 17, 13, 9, 14, 12, 6, 10, 14, 7, 18, 11, 9, 9, 9, 13, 9, 10, 3, 7, 14, 6])"
      ]
     },
     "execution_count": 36,
     "metadata": {},
     "output_type": "execute_result"
    }
   ],
   "source": [
    "ocurrencias.values()"
   ]
  },
  {
   "cell_type": "code",
   "execution_count": 37,
   "metadata": {},
   "outputs": [
    {
     "data": {
      "text/plain": [
       "3"
      ]
     },
     "execution_count": 37,
     "metadata": {},
     "output_type": "execute_result"
    }
   ],
   "source": [
    "min(ocurrencias.values())"
   ]
  },
  {
   "cell_type": "code",
   "execution_count": 38,
   "metadata": {},
   "outputs": [
    {
     "data": {
      "text/plain": [
       "[3,\n",
       " 6,\n",
       " 6,\n",
       " 6,\n",
       " 7,\n",
       " 7,\n",
       " 8,\n",
       " 9,\n",
       " 9,\n",
       " 9,\n",
       " 9,\n",
       " 9,\n",
       " 9,\n",
       " 10,\n",
       " 10,\n",
       " 10,\n",
       " 10,\n",
       " 11,\n",
       " 12,\n",
       " 13,\n",
       " 13,\n",
       " 14,\n",
       " 14,\n",
       " 14,\n",
       " 14,\n",
       " 17,\n",
       " 18]"
      ]
     },
     "execution_count": 38,
     "metadata": {},
     "output_type": "execute_result"
    }
   ],
   "source": [
    "#comprobamos\n",
    "sorted(ocurrencias.values())"
   ]
  },
  {
   "cell_type": "code",
   "execution_count": 39,
   "metadata": {},
   "outputs": [
    {
     "data": {
      "text/plain": [
       "18"
      ]
     },
     "execution_count": 39,
     "metadata": {},
     "output_type": "execute_result"
    }
   ],
   "source": [
    "max(ocurrencias.values())"
   ]
  },
  {
   "cell_type": "markdown",
   "metadata": {},
   "source": [
    "## Conclusion: El texto esta compuesto por un total de 277 palabras, las palabras se repiten en promedio 10,26 y la palabra que menos se repite se repite 3 veces y la que mas se repite se repite 18 veces\n"
   ]
  }
 ],
 "metadata": {
  "kernelspec": {
   "display_name": "Python 3 (ipykernel)",
   "language": "python",
   "name": "python3"
  },
  "language_info": {
   "codemirror_mode": {
    "name": "ipython",
    "version": 3
   },
   "file_extension": ".py",
   "mimetype": "text/x-python",
   "name": "python",
   "nbconvert_exporter": "python",
   "pygments_lexer": "ipython3",
   "version": "3.10.9"
  }
 },
 "nbformat": 4,
 "nbformat_minor": 4
}
