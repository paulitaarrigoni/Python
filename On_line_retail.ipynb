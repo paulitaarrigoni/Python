{
 "cells": [
  {
   "cell_type": "markdown",
   "id": "b52eb596",
   "metadata": {},
   "source": [
    "An international online sales company tries to figure out which headquarters to invest more in, its headquarters in France or its headquarters in Germany.\n",
    "\n",
    "To do this, they transfer their sales data for the years 2021 and 2022 and ask us to carry out the sales analysis in both countries based on these data.\n",
    "\n",
    "Our analysis must show the similarities and differences in both countries and will require some manipulation of the data on our part.\n",
    "\n",
    "Specifically, they ask us that, in addition to analyzing sales in general, we analyze sales by year."
   ]
  },
  {
   "cell_type": "code",
   "execution_count": 1,
   "id": "d22e512e",
   "metadata": {},
   "outputs": [],
   "source": [
    "import os\n",
    "import pandas as pd"
   ]
  },
  {
   "cell_type": "code",
   "execution_count": 2,
   "id": "08a38e77",
   "metadata": {},
   "outputs": [],
   "source": [
    "df = pd.read_csv('On_line_retail.csv')"
   ]
  },
  {
   "cell_type": "code",
   "execution_count": 3,
   "id": "d3db9277",
   "metadata": {},
   "outputs": [
    {
     "data": {
      "text/html": [
       "<div>\n",
       "<style scoped>\n",
       "    .dataframe tbody tr th:only-of-type {\n",
       "        vertical-align: middle;\n",
       "    }\n",
       "\n",
       "    .dataframe tbody tr th {\n",
       "        vertical-align: top;\n",
       "    }\n",
       "\n",
       "    .dataframe thead th {\n",
       "        text-align: right;\n",
       "    }\n",
       "</style>\n",
       "<table border=\"1\" class=\"dataframe\">\n",
       "  <thead>\n",
       "    <tr style=\"text-align: right;\">\n",
       "      <th></th>\n",
       "      <th>Unnamed: 0</th>\n",
       "      <th>InvoiceNo</th>\n",
       "      <th>StockCode</th>\n",
       "      <th>Description</th>\n",
       "      <th>Quantity</th>\n",
       "      <th>InvoiceDate</th>\n",
       "      <th>UnitPrice</th>\n",
       "      <th>CustomerID</th>\n",
       "      <th>Country</th>\n",
       "    </tr>\n",
       "  </thead>\n",
       "  <tbody>\n",
       "    <tr>\n",
       "      <th>0</th>\n",
       "      <td>0</td>\n",
       "      <td>536365</td>\n",
       "      <td>85123A</td>\n",
       "      <td>WHITE HANGING HEART T-LIGHT HOLDER</td>\n",
       "      <td>6</td>\n",
       "      <td>2021-12-01 08:26:00</td>\n",
       "      <td>2,55</td>\n",
       "      <td>-</td>\n",
       "      <td>United Kingdom</td>\n",
       "    </tr>\n",
       "    <tr>\n",
       "      <th>1</th>\n",
       "      <td>1</td>\n",
       "      <td>536365</td>\n",
       "      <td>71053</td>\n",
       "      <td>WHITE METAL LANTERN</td>\n",
       "      <td>6</td>\n",
       "      <td>2021-12-01 08:26:00</td>\n",
       "      <td>3,39</td>\n",
       "      <td>17850.0</td>\n",
       "      <td>United Kingdom</td>\n",
       "    </tr>\n",
       "    <tr>\n",
       "      <th>2</th>\n",
       "      <td>2</td>\n",
       "      <td>536365</td>\n",
       "      <td>84406B</td>\n",
       "      <td>CREAM CUPID HEARTS COAT HANGER</td>\n",
       "      <td>8</td>\n",
       "      <td>2021-12-01 08:26:00</td>\n",
       "      <td>2,75</td>\n",
       "      <td>17850.0</td>\n",
       "      <td>United Kingdom</td>\n",
       "    </tr>\n",
       "    <tr>\n",
       "      <th>3</th>\n",
       "      <td>3</td>\n",
       "      <td>536365</td>\n",
       "      <td>84029G</td>\n",
       "      <td>KNITTED UNION FLAG HOT WATER BOTTLE</td>\n",
       "      <td>6</td>\n",
       "      <td>2021-12-01 08:26:00</td>\n",
       "      <td>3,39</td>\n",
       "      <td>17850.0</td>\n",
       "      <td>United Kingdom</td>\n",
       "    </tr>\n",
       "    <tr>\n",
       "      <th>4</th>\n",
       "      <td>4</td>\n",
       "      <td>536365</td>\n",
       "      <td>84029E</td>\n",
       "      <td>RED WOOLLY HOTTIE WHITE HEART.</td>\n",
       "      <td>6</td>\n",
       "      <td>2021-12-01 08:26:00</td>\n",
       "      <td>3,39</td>\n",
       "      <td>17850.0</td>\n",
       "      <td>United Kingdom</td>\n",
       "    </tr>\n",
       "    <tr>\n",
       "      <th>...</th>\n",
       "      <td>...</td>\n",
       "      <td>...</td>\n",
       "      <td>...</td>\n",
       "      <td>...</td>\n",
       "      <td>...</td>\n",
       "      <td>...</td>\n",
       "      <td>...</td>\n",
       "      <td>...</td>\n",
       "      <td>...</td>\n",
       "    </tr>\n",
       "    <tr>\n",
       "      <th>541904</th>\n",
       "      <td>541904</td>\n",
       "      <td>581587</td>\n",
       "      <td>22613</td>\n",
       "      <td>PACK OF 20 SPACEBOY NAPKINS</td>\n",
       "      <td>12</td>\n",
       "      <td>2022-12-09 12:50:00</td>\n",
       "      <td>0,85</td>\n",
       "      <td>12680.0</td>\n",
       "      <td>France</td>\n",
       "    </tr>\n",
       "    <tr>\n",
       "      <th>541905</th>\n",
       "      <td>541905</td>\n",
       "      <td>581587</td>\n",
       "      <td>22899</td>\n",
       "      <td>CHILDREN'S APRON DOLLY GIRL</td>\n",
       "      <td>6</td>\n",
       "      <td>2022-12-09 12:50:00</td>\n",
       "      <td>2,1</td>\n",
       "      <td>12680.0</td>\n",
       "      <td>France</td>\n",
       "    </tr>\n",
       "    <tr>\n",
       "      <th>541906</th>\n",
       "      <td>541906</td>\n",
       "      <td>581587</td>\n",
       "      <td>23254</td>\n",
       "      <td>CHILDRENS CUTLERY DOLLY GIRL</td>\n",
       "      <td>4</td>\n",
       "      <td>2022-12-09 12:50:00</td>\n",
       "      <td>4,15</td>\n",
       "      <td>12680.0</td>\n",
       "      <td>France</td>\n",
       "    </tr>\n",
       "    <tr>\n",
       "      <th>541907</th>\n",
       "      <td>541907</td>\n",
       "      <td>581587</td>\n",
       "      <td>23255</td>\n",
       "      <td>CHILDRENS CUTLERY CIRCUS PARADE</td>\n",
       "      <td>4</td>\n",
       "      <td>2022-12-09 12:50:00</td>\n",
       "      <td>4,15</td>\n",
       "      <td>12680.0</td>\n",
       "      <td>France</td>\n",
       "    </tr>\n",
       "    <tr>\n",
       "      <th>541908</th>\n",
       "      <td>541908</td>\n",
       "      <td>581587</td>\n",
       "      <td>22138</td>\n",
       "      <td>BAKING SET 9 PIECE RETROSPOT</td>\n",
       "      <td>3</td>\n",
       "      <td>2022-12-09 12:50:00</td>\n",
       "      <td>4,95</td>\n",
       "      <td>12680.0</td>\n",
       "      <td>France</td>\n",
       "    </tr>\n",
       "  </tbody>\n",
       "</table>\n",
       "<p>541909 rows × 9 columns</p>\n",
       "</div>"
      ],
      "text/plain": [
       "        Unnamed: 0 InvoiceNo StockCode                          Description   \n",
       "0                0    536365    85123A   WHITE HANGING HEART T-LIGHT HOLDER  \\\n",
       "1                1    536365     71053                  WHITE METAL LANTERN   \n",
       "2                2    536365    84406B       CREAM CUPID HEARTS COAT HANGER   \n",
       "3                3    536365    84029G  KNITTED UNION FLAG HOT WATER BOTTLE   \n",
       "4                4    536365    84029E       RED WOOLLY HOTTIE WHITE HEART.   \n",
       "...            ...       ...       ...                                  ...   \n",
       "541904      541904    581587     22613          PACK OF 20 SPACEBOY NAPKINS   \n",
       "541905      541905    581587     22899         CHILDREN'S APRON DOLLY GIRL    \n",
       "541906      541906    581587     23254        CHILDRENS CUTLERY DOLLY GIRL    \n",
       "541907      541907    581587     23255      CHILDRENS CUTLERY CIRCUS PARADE   \n",
       "541908      541908    581587     22138        BAKING SET 9 PIECE RETROSPOT    \n",
       "\n",
       "        Quantity          InvoiceDate UnitPrice CustomerID         Country  \n",
       "0              6  2021-12-01 08:26:00      2,55          -  United Kingdom  \n",
       "1              6  2021-12-01 08:26:00      3,39    17850.0  United Kingdom  \n",
       "2              8  2021-12-01 08:26:00      2,75    17850.0  United Kingdom  \n",
       "3              6  2021-12-01 08:26:00      3,39    17850.0  United Kingdom  \n",
       "4              6  2021-12-01 08:26:00      3,39    17850.0  United Kingdom  \n",
       "...          ...                  ...       ...        ...             ...  \n",
       "541904        12  2022-12-09 12:50:00      0,85    12680.0          France  \n",
       "541905         6  2022-12-09 12:50:00       2,1    12680.0          France  \n",
       "541906         4  2022-12-09 12:50:00      4,15    12680.0          France  \n",
       "541907         4  2022-12-09 12:50:00      4,15    12680.0          France  \n",
       "541908         3  2022-12-09 12:50:00      4,95    12680.0          France  \n",
       "\n",
       "[541909 rows x 9 columns]"
      ]
     },
     "execution_count": 3,
     "metadata": {},
     "output_type": "execute_result"
    }
   ],
   "source": [
    "df"
   ]
  },
  {
   "cell_type": "code",
   "execution_count": 4,
   "id": "ac41740a",
   "metadata": {},
   "outputs": [
    {
     "data": {
      "text/html": [
       "<div>\n",
       "<style scoped>\n",
       "    .dataframe tbody tr th:only-of-type {\n",
       "        vertical-align: middle;\n",
       "    }\n",
       "\n",
       "    .dataframe tbody tr th {\n",
       "        vertical-align: top;\n",
       "    }\n",
       "\n",
       "    .dataframe thead th {\n",
       "        text-align: right;\n",
       "    }\n",
       "</style>\n",
       "<table border=\"1\" class=\"dataframe\">\n",
       "  <thead>\n",
       "    <tr style=\"text-align: right;\">\n",
       "      <th></th>\n",
       "      <th>Unnamed: 0</th>\n",
       "      <th>InvoiceNo</th>\n",
       "      <th>StockCode</th>\n",
       "      <th>Description</th>\n",
       "      <th>Quantity</th>\n",
       "      <th>InvoiceDate</th>\n",
       "      <th>UnitPrice</th>\n",
       "      <th>CustomerID</th>\n",
       "      <th>Country</th>\n",
       "    </tr>\n",
       "  </thead>\n",
       "  <tbody>\n",
       "    <tr>\n",
       "      <th>0</th>\n",
       "      <td>0</td>\n",
       "      <td>536365</td>\n",
       "      <td>85123A</td>\n",
       "      <td>WHITE HANGING HEART T-LIGHT HOLDER</td>\n",
       "      <td>6</td>\n",
       "      <td>2021-12-01 08:26:00</td>\n",
       "      <td>2,55</td>\n",
       "      <td>NaN</td>\n",
       "      <td>United Kingdom</td>\n",
       "    </tr>\n",
       "    <tr>\n",
       "      <th>1</th>\n",
       "      <td>1</td>\n",
       "      <td>536365</td>\n",
       "      <td>71053</td>\n",
       "      <td>WHITE METAL LANTERN</td>\n",
       "      <td>6</td>\n",
       "      <td>2021-12-01 08:26:00</td>\n",
       "      <td>3,39</td>\n",
       "      <td>17850.0</td>\n",
       "      <td>United Kingdom</td>\n",
       "    </tr>\n",
       "    <tr>\n",
       "      <th>2</th>\n",
       "      <td>2</td>\n",
       "      <td>536365</td>\n",
       "      <td>84406B</td>\n",
       "      <td>CREAM CUPID HEARTS COAT HANGER</td>\n",
       "      <td>8</td>\n",
       "      <td>2021-12-01 08:26:00</td>\n",
       "      <td>2,75</td>\n",
       "      <td>17850.0</td>\n",
       "      <td>United Kingdom</td>\n",
       "    </tr>\n",
       "    <tr>\n",
       "      <th>3</th>\n",
       "      <td>3</td>\n",
       "      <td>536365</td>\n",
       "      <td>84029G</td>\n",
       "      <td>KNITTED UNION FLAG HOT WATER BOTTLE</td>\n",
       "      <td>6</td>\n",
       "      <td>2021-12-01 08:26:00</td>\n",
       "      <td>3,39</td>\n",
       "      <td>17850.0</td>\n",
       "      <td>United Kingdom</td>\n",
       "    </tr>\n",
       "    <tr>\n",
       "      <th>4</th>\n",
       "      <td>4</td>\n",
       "      <td>536365</td>\n",
       "      <td>84029E</td>\n",
       "      <td>RED WOOLLY HOTTIE WHITE HEART.</td>\n",
       "      <td>6</td>\n",
       "      <td>2021-12-01 08:26:00</td>\n",
       "      <td>3,39</td>\n",
       "      <td>17850.0</td>\n",
       "      <td>United Kingdom</td>\n",
       "    </tr>\n",
       "    <tr>\n",
       "      <th>...</th>\n",
       "      <td>...</td>\n",
       "      <td>...</td>\n",
       "      <td>...</td>\n",
       "      <td>...</td>\n",
       "      <td>...</td>\n",
       "      <td>...</td>\n",
       "      <td>...</td>\n",
       "      <td>...</td>\n",
       "      <td>...</td>\n",
       "    </tr>\n",
       "    <tr>\n",
       "      <th>541904</th>\n",
       "      <td>541904</td>\n",
       "      <td>581587</td>\n",
       "      <td>22613</td>\n",
       "      <td>PACK OF 20 SPACEBOY NAPKINS</td>\n",
       "      <td>12</td>\n",
       "      <td>2022-12-09 12:50:00</td>\n",
       "      <td>0,85</td>\n",
       "      <td>12680.0</td>\n",
       "      <td>France</td>\n",
       "    </tr>\n",
       "    <tr>\n",
       "      <th>541905</th>\n",
       "      <td>541905</td>\n",
       "      <td>581587</td>\n",
       "      <td>22899</td>\n",
       "      <td>CHILDREN'S APRON DOLLY GIRL</td>\n",
       "      <td>6</td>\n",
       "      <td>2022-12-09 12:50:00</td>\n",
       "      <td>2,1</td>\n",
       "      <td>12680.0</td>\n",
       "      <td>France</td>\n",
       "    </tr>\n",
       "    <tr>\n",
       "      <th>541906</th>\n",
       "      <td>541906</td>\n",
       "      <td>581587</td>\n",
       "      <td>23254</td>\n",
       "      <td>CHILDRENS CUTLERY DOLLY GIRL</td>\n",
       "      <td>4</td>\n",
       "      <td>2022-12-09 12:50:00</td>\n",
       "      <td>4,15</td>\n",
       "      <td>12680.0</td>\n",
       "      <td>France</td>\n",
       "    </tr>\n",
       "    <tr>\n",
       "      <th>541907</th>\n",
       "      <td>541907</td>\n",
       "      <td>581587</td>\n",
       "      <td>23255</td>\n",
       "      <td>CHILDRENS CUTLERY CIRCUS PARADE</td>\n",
       "      <td>4</td>\n",
       "      <td>2022-12-09 12:50:00</td>\n",
       "      <td>4,15</td>\n",
       "      <td>12680.0</td>\n",
       "      <td>France</td>\n",
       "    </tr>\n",
       "    <tr>\n",
       "      <th>541908</th>\n",
       "      <td>541908</td>\n",
       "      <td>581587</td>\n",
       "      <td>22138</td>\n",
       "      <td>BAKING SET 9 PIECE RETROSPOT</td>\n",
       "      <td>3</td>\n",
       "      <td>2022-12-09 12:50:00</td>\n",
       "      <td>4,95</td>\n",
       "      <td>12680.0</td>\n",
       "      <td>France</td>\n",
       "    </tr>\n",
       "  </tbody>\n",
       "</table>\n",
       "<p>541909 rows × 9 columns</p>\n",
       "</div>"
      ],
      "text/plain": [
       "        Unnamed: 0 InvoiceNo StockCode                          Description   \n",
       "0                0    536365    85123A   WHITE HANGING HEART T-LIGHT HOLDER  \\\n",
       "1                1    536365     71053                  WHITE METAL LANTERN   \n",
       "2                2    536365    84406B       CREAM CUPID HEARTS COAT HANGER   \n",
       "3                3    536365    84029G  KNITTED UNION FLAG HOT WATER BOTTLE   \n",
       "4                4    536365    84029E       RED WOOLLY HOTTIE WHITE HEART.   \n",
       "...            ...       ...       ...                                  ...   \n",
       "541904      541904    581587     22613          PACK OF 20 SPACEBOY NAPKINS   \n",
       "541905      541905    581587     22899         CHILDREN'S APRON DOLLY GIRL    \n",
       "541906      541906    581587     23254        CHILDRENS CUTLERY DOLLY GIRL    \n",
       "541907      541907    581587     23255      CHILDRENS CUTLERY CIRCUS PARADE   \n",
       "541908      541908    581587     22138        BAKING SET 9 PIECE RETROSPOT    \n",
       "\n",
       "        Quantity          InvoiceDate UnitPrice  CustomerID         Country  \n",
       "0              6  2021-12-01 08:26:00      2,55         NaN  United Kingdom  \n",
       "1              6  2021-12-01 08:26:00      3,39     17850.0  United Kingdom  \n",
       "2              8  2021-12-01 08:26:00      2,75     17850.0  United Kingdom  \n",
       "3              6  2021-12-01 08:26:00      3,39     17850.0  United Kingdom  \n",
       "4              6  2021-12-01 08:26:00      3,39     17850.0  United Kingdom  \n",
       "...          ...                  ...       ...         ...             ...  \n",
       "541904        12  2022-12-09 12:50:00      0,85     12680.0          France  \n",
       "541905         6  2022-12-09 12:50:00       2,1     12680.0          France  \n",
       "541906         4  2022-12-09 12:50:00      4,15     12680.0          France  \n",
       "541907         4  2022-12-09 12:50:00      4,15     12680.0          France  \n",
       "541908         3  2022-12-09 12:50:00      4,95     12680.0          France  \n",
       "\n",
       "[541909 rows x 9 columns]"
      ]
     },
     "execution_count": 4,
     "metadata": {},
     "output_type": "execute_result"
    }
   ],
   "source": [
    "#We treat nulls\n",
    "df = pd.read_csv('On_line_retail.csv', na_values = ['-'])\n",
    "df"
   ]
  },
  {
   "cell_type": "code",
   "execution_count": 5,
   "id": "bd6b2af3",
   "metadata": {},
   "outputs": [
    {
     "data": {
      "text/html": [
       "<div>\n",
       "<style scoped>\n",
       "    .dataframe tbody tr th:only-of-type {\n",
       "        vertical-align: middle;\n",
       "    }\n",
       "\n",
       "    .dataframe tbody tr th {\n",
       "        vertical-align: top;\n",
       "    }\n",
       "\n",
       "    .dataframe thead th {\n",
       "        text-align: right;\n",
       "    }\n",
       "</style>\n",
       "<table border=\"1\" class=\"dataframe\">\n",
       "  <thead>\n",
       "    <tr style=\"text-align: right;\">\n",
       "      <th></th>\n",
       "      <th>InvoiceNo</th>\n",
       "      <th>StockCode</th>\n",
       "      <th>Description</th>\n",
       "      <th>Quantity</th>\n",
       "      <th>InvoiceDate</th>\n",
       "      <th>UnitPrice</th>\n",
       "      <th>CustomerID</th>\n",
       "      <th>Country</th>\n",
       "    </tr>\n",
       "  </thead>\n",
       "  <tbody>\n",
       "    <tr>\n",
       "      <th>0</th>\n",
       "      <td>536365</td>\n",
       "      <td>85123A</td>\n",
       "      <td>WHITE HANGING HEART T-LIGHT HOLDER</td>\n",
       "      <td>6</td>\n",
       "      <td>2021-12-01 08:26:00</td>\n",
       "      <td>2,55</td>\n",
       "      <td>NaN</td>\n",
       "      <td>United Kingdom</td>\n",
       "    </tr>\n",
       "    <tr>\n",
       "      <th>1</th>\n",
       "      <td>536365</td>\n",
       "      <td>71053</td>\n",
       "      <td>WHITE METAL LANTERN</td>\n",
       "      <td>6</td>\n",
       "      <td>2021-12-01 08:26:00</td>\n",
       "      <td>3,39</td>\n",
       "      <td>17850.0</td>\n",
       "      <td>United Kingdom</td>\n",
       "    </tr>\n",
       "    <tr>\n",
       "      <th>2</th>\n",
       "      <td>536365</td>\n",
       "      <td>84406B</td>\n",
       "      <td>CREAM CUPID HEARTS COAT HANGER</td>\n",
       "      <td>8</td>\n",
       "      <td>2021-12-01 08:26:00</td>\n",
       "      <td>2,75</td>\n",
       "      <td>17850.0</td>\n",
       "      <td>United Kingdom</td>\n",
       "    </tr>\n",
       "    <tr>\n",
       "      <th>3</th>\n",
       "      <td>536365</td>\n",
       "      <td>84029G</td>\n",
       "      <td>KNITTED UNION FLAG HOT WATER BOTTLE</td>\n",
       "      <td>6</td>\n",
       "      <td>2021-12-01 08:26:00</td>\n",
       "      <td>3,39</td>\n",
       "      <td>17850.0</td>\n",
       "      <td>United Kingdom</td>\n",
       "    </tr>\n",
       "    <tr>\n",
       "      <th>4</th>\n",
       "      <td>536365</td>\n",
       "      <td>84029E</td>\n",
       "      <td>RED WOOLLY HOTTIE WHITE HEART.</td>\n",
       "      <td>6</td>\n",
       "      <td>2021-12-01 08:26:00</td>\n",
       "      <td>3,39</td>\n",
       "      <td>17850.0</td>\n",
       "      <td>United Kingdom</td>\n",
       "    </tr>\n",
       "    <tr>\n",
       "      <th>...</th>\n",
       "      <td>...</td>\n",
       "      <td>...</td>\n",
       "      <td>...</td>\n",
       "      <td>...</td>\n",
       "      <td>...</td>\n",
       "      <td>...</td>\n",
       "      <td>...</td>\n",
       "      <td>...</td>\n",
       "    </tr>\n",
       "    <tr>\n",
       "      <th>541904</th>\n",
       "      <td>581587</td>\n",
       "      <td>22613</td>\n",
       "      <td>PACK OF 20 SPACEBOY NAPKINS</td>\n",
       "      <td>12</td>\n",
       "      <td>2022-12-09 12:50:00</td>\n",
       "      <td>0,85</td>\n",
       "      <td>12680.0</td>\n",
       "      <td>France</td>\n",
       "    </tr>\n",
       "    <tr>\n",
       "      <th>541905</th>\n",
       "      <td>581587</td>\n",
       "      <td>22899</td>\n",
       "      <td>CHILDREN'S APRON DOLLY GIRL</td>\n",
       "      <td>6</td>\n",
       "      <td>2022-12-09 12:50:00</td>\n",
       "      <td>2,1</td>\n",
       "      <td>12680.0</td>\n",
       "      <td>France</td>\n",
       "    </tr>\n",
       "    <tr>\n",
       "      <th>541906</th>\n",
       "      <td>581587</td>\n",
       "      <td>23254</td>\n",
       "      <td>CHILDRENS CUTLERY DOLLY GIRL</td>\n",
       "      <td>4</td>\n",
       "      <td>2022-12-09 12:50:00</td>\n",
       "      <td>4,15</td>\n",
       "      <td>12680.0</td>\n",
       "      <td>France</td>\n",
       "    </tr>\n",
       "    <tr>\n",
       "      <th>541907</th>\n",
       "      <td>581587</td>\n",
       "      <td>23255</td>\n",
       "      <td>CHILDRENS CUTLERY CIRCUS PARADE</td>\n",
       "      <td>4</td>\n",
       "      <td>2022-12-09 12:50:00</td>\n",
       "      <td>4,15</td>\n",
       "      <td>12680.0</td>\n",
       "      <td>France</td>\n",
       "    </tr>\n",
       "    <tr>\n",
       "      <th>541908</th>\n",
       "      <td>581587</td>\n",
       "      <td>22138</td>\n",
       "      <td>BAKING SET 9 PIECE RETROSPOT</td>\n",
       "      <td>3</td>\n",
       "      <td>2022-12-09 12:50:00</td>\n",
       "      <td>4,95</td>\n",
       "      <td>12680.0</td>\n",
       "      <td>France</td>\n",
       "    </tr>\n",
       "  </tbody>\n",
       "</table>\n",
       "<p>541909 rows × 8 columns</p>\n",
       "</div>"
      ],
      "text/plain": [
       "       InvoiceNo StockCode                          Description  Quantity   \n",
       "0         536365    85123A   WHITE HANGING HEART T-LIGHT HOLDER         6  \\\n",
       "1         536365     71053                  WHITE METAL LANTERN         6   \n",
       "2         536365    84406B       CREAM CUPID HEARTS COAT HANGER         8   \n",
       "3         536365    84029G  KNITTED UNION FLAG HOT WATER BOTTLE         6   \n",
       "4         536365    84029E       RED WOOLLY HOTTIE WHITE HEART.         6   \n",
       "...          ...       ...                                  ...       ...   \n",
       "541904    581587     22613          PACK OF 20 SPACEBOY NAPKINS        12   \n",
       "541905    581587     22899         CHILDREN'S APRON DOLLY GIRL          6   \n",
       "541906    581587     23254        CHILDRENS CUTLERY DOLLY GIRL          4   \n",
       "541907    581587     23255      CHILDRENS CUTLERY CIRCUS PARADE         4   \n",
       "541908    581587     22138        BAKING SET 9 PIECE RETROSPOT          3   \n",
       "\n",
       "                InvoiceDate UnitPrice  CustomerID         Country  \n",
       "0       2021-12-01 08:26:00      2,55         NaN  United Kingdom  \n",
       "1       2021-12-01 08:26:00      3,39     17850.0  United Kingdom  \n",
       "2       2021-12-01 08:26:00      2,75     17850.0  United Kingdom  \n",
       "3       2021-12-01 08:26:00      3,39     17850.0  United Kingdom  \n",
       "4       2021-12-01 08:26:00      3,39     17850.0  United Kingdom  \n",
       "...                     ...       ...         ...             ...  \n",
       "541904  2022-12-09 12:50:00      0,85     12680.0          France  \n",
       "541905  2022-12-09 12:50:00       2,1     12680.0          France  \n",
       "541906  2022-12-09 12:50:00      4,15     12680.0          France  \n",
       "541907  2022-12-09 12:50:00      4,15     12680.0          France  \n",
       "541908  2022-12-09 12:50:00      4,95     12680.0          France  \n",
       "\n",
       "[541909 rows x 8 columns]"
      ]
     },
     "execution_count": 5,
     "metadata": {},
     "output_type": "execute_result"
    }
   ],
   "source": [
    "#We drop a column Unnamed: 0\n",
    "df.drop(columns = {'Unnamed: 0'}, inplace = True)\n",
    "df"
   ]
  },
  {
   "cell_type": "markdown",
   "id": "fe30729a",
   "metadata": {},
   "source": [
    "We treat the column unitprice"
   ]
  },
  {
   "cell_type": "code",
   "execution_count": 6,
   "id": "83ad4aa4",
   "metadata": {},
   "outputs": [
    {
     "data": {
      "text/plain": [
       "dtype('O')"
      ]
     },
     "execution_count": 6,
     "metadata": {},
     "output_type": "execute_result"
    }
   ],
   "source": [
    "df.UnitPrice.dtype"
   ]
  },
  {
   "cell_type": "code",
   "execution_count": 7,
   "id": "16990c2a",
   "metadata": {},
   "outputs": [],
   "source": [
    "#We realize that unitprice is not as a numeric type"
   ]
  },
  {
   "cell_type": "code",
   "execution_count": 8,
   "id": "6ccfae88",
   "metadata": {},
   "outputs": [
    {
     "data": {
      "text/plain": [
       "0         2.55\n",
       "1         3.39\n",
       "2         2.75\n",
       "3         3.39\n",
       "4         3.39\n",
       "          ... \n",
       "541904    0.85\n",
       "541905     2.1\n",
       "541906    4.15\n",
       "541907    4.15\n",
       "541908    4.95\n",
       "Name: UnitPrice, Length: 541909, dtype: object"
      ]
     },
     "execution_count": 8,
     "metadata": {},
     "output_type": "execute_result"
    }
   ],
   "source": [
    "df.UnitPrice.str.replace(',', '.')"
   ]
  },
  {
   "cell_type": "code",
   "execution_count": 9,
   "id": "89d178b3",
   "metadata": {},
   "outputs": [
    {
     "data": {
      "text/plain": [
       "0         2.55\n",
       "1         3.39\n",
       "2         2.75\n",
       "3         3.39\n",
       "4         3.39\n",
       "          ... \n",
       "541904    0.85\n",
       "541905     2.1\n",
       "541906    4.15\n",
       "541907    4.15\n",
       "541908    4.95\n",
       "Name: UnitPrice, Length: 541909, dtype: object"
      ]
     },
     "execution_count": 9,
     "metadata": {},
     "output_type": "execute_result"
    }
   ],
   "source": [
    "df.UnitPrice = df.UnitPrice.str.replace(',', '.')\n",
    "df.UnitPrice"
   ]
  },
  {
   "cell_type": "code",
   "execution_count": 10,
   "id": "d836f067",
   "metadata": {},
   "outputs": [
    {
     "data": {
      "text/plain": [
       "0         2.55\n",
       "1         3.39\n",
       "2         2.75\n",
       "3         3.39\n",
       "4         3.39\n",
       "          ... \n",
       "541904    0.85\n",
       "541905    2.10\n",
       "541906    4.15\n",
       "541907    4.15\n",
       "541908    4.95\n",
       "Name: UnitPrice, Length: 541909, dtype: float64"
      ]
     },
     "execution_count": 10,
     "metadata": {},
     "output_type": "execute_result"
    }
   ],
   "source": [
    "df.UnitPrice.astype('float')"
   ]
  },
  {
   "cell_type": "code",
   "execution_count": 11,
   "id": "724792b1",
   "metadata": {},
   "outputs": [
    {
     "data": {
      "text/plain": [
       "0         2.55\n",
       "1         3.39\n",
       "2         2.75\n",
       "3         3.39\n",
       "4         3.39\n",
       "          ... \n",
       "541904    0.85\n",
       "541905    2.10\n",
       "541906    4.15\n",
       "541907    4.15\n",
       "541908    4.95\n",
       "Name: UnitPrice, Length: 541909, dtype: float64"
      ]
     },
     "execution_count": 11,
     "metadata": {},
     "output_type": "execute_result"
    }
   ],
   "source": [
    "df.UnitPrice = df.UnitPrice.astype('float')\n",
    "df.UnitPrice"
   ]
  },
  {
   "cell_type": "markdown",
   "id": "4a71c566",
   "metadata": {},
   "source": [
    "1. Sales comparison between France and Germany"
   ]
  },
  {
   "cell_type": "code",
   "execution_count": 12,
   "id": "e8ebad53",
   "metadata": {},
   "outputs": [
    {
     "data": {
      "text/plain": [
       "8557"
      ]
     },
     "execution_count": 12,
     "metadata": {},
     "output_type": "execute_result"
    }
   ],
   "source": [
    "df[df.Country == 'France'].UnitPrice.count()"
   ]
  },
  {
   "cell_type": "code",
   "execution_count": 13,
   "id": "9dad988c",
   "metadata": {},
   "outputs": [
    {
     "data": {
      "text/plain": [
       "9495"
      ]
     },
     "execution_count": 13,
     "metadata": {},
     "output_type": "execute_result"
    }
   ],
   "source": [
    "df[df.Country == 'Germany'].UnitPrice.count()"
   ]
  },
  {
   "cell_type": "code",
   "execution_count": 14,
   "id": "61e9fcac",
   "metadata": {},
   "outputs": [],
   "source": [
    "## We have more data from Germany than from France"
   ]
  },
  {
   "cell_type": "code",
   "execution_count": 15,
   "id": "186fc2f8",
   "metadata": {},
   "outputs": [
    {
     "data": {
      "text/plain": [
       "43031.99"
      ]
     },
     "execution_count": 15,
     "metadata": {},
     "output_type": "execute_result"
    }
   ],
   "source": [
    "round(df[df.Country == 'France'].UnitPrice.sum(),2)"
   ]
  },
  {
   "cell_type": "code",
   "execution_count": 16,
   "id": "a497210d",
   "metadata": {},
   "outputs": [
    {
     "data": {
      "text/plain": [
       "37666.0"
      ]
     },
     "execution_count": 16,
     "metadata": {},
     "output_type": "execute_result"
    }
   ],
   "source": [
    "round(df[df.Country == 'Germany'].UnitPrice.sum(),2)"
   ]
  },
  {
   "cell_type": "code",
   "execution_count": 17,
   "id": "e4657039",
   "metadata": {},
   "outputs": [],
   "source": [
    "# The sum of the unit price is higher in France than in Germany"
   ]
  },
  {
   "cell_type": "code",
   "execution_count": 18,
   "id": "57332f65",
   "metadata": {},
   "outputs": [
    {
     "data": {
      "text/plain": [
       "110480"
      ]
     },
     "execution_count": 18,
     "metadata": {},
     "output_type": "execute_result"
    }
   ],
   "source": [
    "df[df.Country == 'France'].Quantity.sum()"
   ]
  },
  {
   "cell_type": "code",
   "execution_count": 19,
   "id": "9504c8e4",
   "metadata": {},
   "outputs": [
    {
     "data": {
      "text/plain": [
       "117448"
      ]
     },
     "execution_count": 19,
     "metadata": {},
     "output_type": "execute_result"
    }
   ],
   "source": [
    "df[df.Country == 'Germany'].Quantity.sum()"
   ]
  },
  {
   "cell_type": "code",
   "execution_count": 20,
   "id": "d9c76612",
   "metadata": {},
   "outputs": [],
   "source": [
    "# However, in Germany more units are sold"
   ]
  },
  {
   "cell_type": "markdown",
   "id": "ef621be5",
   "metadata": {},
   "source": [
    "That is, Germany sells more units but, apparently, at a lower unit price. Let's see the averages..."
   ]
  },
  {
   "cell_type": "code",
   "execution_count": 21,
   "id": "ee6565a8",
   "metadata": {},
   "outputs": [
    {
     "data": {
      "text/plain": [
       "5.028864087881266"
      ]
     },
     "execution_count": 21,
     "metadata": {},
     "output_type": "execute_result"
    }
   ],
   "source": [
    "df[df.Country == 'France'].UnitPrice.mean()"
   ]
  },
  {
   "cell_type": "code",
   "execution_count": 22,
   "id": "55102f59",
   "metadata": {},
   "outputs": [
    {
     "data": {
      "text/plain": [
       "3.9669299631384938"
      ]
     },
     "execution_count": 22,
     "metadata": {},
     "output_type": "execute_result"
    }
   ],
   "source": [
    "df[df.Country == 'Germany'].UnitPrice.mean()"
   ]
  },
  {
   "cell_type": "code",
   "execution_count": 23,
   "id": "c36587c2",
   "metadata": {},
   "outputs": [
    {
     "data": {
      "text/plain": [
       "12.91106696272058"
      ]
     },
     "execution_count": 23,
     "metadata": {},
     "output_type": "execute_result"
    }
   ],
   "source": [
    "df[df.Country == 'France'].Quantity.mean()"
   ]
  },
  {
   "cell_type": "code",
   "execution_count": 24,
   "id": "0fb09e9a",
   "metadata": {},
   "outputs": [
    {
     "data": {
      "text/plain": [
       "12.369457609268036"
      ]
     },
     "execution_count": 24,
     "metadata": {},
     "output_type": "execute_result"
    }
   ],
   "source": [
    "df[df.Country == 'Germany'].Quantity.mean()"
   ]
  },
  {
   "cell_type": "code",
   "execution_count": 25,
   "id": "6b073312",
   "metadata": {},
   "outputs": [],
   "source": [
    "# Indeed, the unit price in France is, on average, higher than in Germany\n",
    "# The number of units of each product sold in\n",
    "## average is higher in France than in Germany\n",
    "## This can only match the above if\n",
    "## remember that Germany has more data than France"
   ]
  },
  {
   "cell_type": "markdown",
   "id": "96d36af3",
   "metadata": {},
   "source": [
    "To refine our analysis we need to know the total sales that each row represents"
   ]
  },
  {
   "cell_type": "code",
   "execution_count": 26,
   "id": "664ef698",
   "metadata": {},
   "outputs": [],
   "source": [
    "# If we multiply the unit price by the number of units sold..."
   ]
  },
  {
   "cell_type": "code",
   "execution_count": 27,
   "id": "5b7984ce",
   "metadata": {},
   "outputs": [
    {
     "data": {
      "text/plain": [
       "0         15.30\n",
       "1         20.34\n",
       "2         22.00\n",
       "3         20.34\n",
       "4         20.34\n",
       "          ...  \n",
       "541904    10.20\n",
       "541905    12.60\n",
       "541906    16.60\n",
       "541907    16.60\n",
       "541908    14.85\n",
       "Length: 541909, dtype: float64"
      ]
     },
     "execution_count": 27,
     "metadata": {},
     "output_type": "execute_result"
    }
   ],
   "source": [
    "round(df.UnitPrice*df.Quantity, 2)"
   ]
  },
  {
   "cell_type": "code",
   "execution_count": 28,
   "id": "186f3129",
   "metadata": {},
   "outputs": [],
   "source": [
    "#We create a new column\n",
    "\n",
    "df['UnitPriceXQuantity'] = round(df.UnitPrice*df.Quantity, 2)"
   ]
  },
  {
   "cell_type": "code",
   "execution_count": 29,
   "id": "a0c133d1",
   "metadata": {},
   "outputs": [
    {
     "data": {
      "text/plain": [
       "23.07"
      ]
     },
     "execution_count": 29,
     "metadata": {},
     "output_type": "execute_result"
    }
   ],
   "source": [
    "round(df[df.Country == 'France'].UnitPriceXQuantity.mean(),2)"
   ]
  },
  {
   "cell_type": "code",
   "execution_count": 30,
   "id": "29632a19",
   "metadata": {},
   "outputs": [
    {
     "data": {
      "text/plain": [
       "23.35"
      ]
     },
     "execution_count": 30,
     "metadata": {},
     "output_type": "execute_result"
    }
   ],
   "source": [
    "round(df[df.Country == 'Germany'].UnitPriceXQuantity.mean(),2)"
   ]
  },
  {
   "cell_type": "code",
   "execution_count": 31,
   "id": "ee8f8bdf",
   "metadata": {},
   "outputs": [
    {
     "data": {
      "text/plain": [
       "197403.9"
      ]
     },
     "execution_count": 31,
     "metadata": {},
     "output_type": "execute_result"
    }
   ],
   "source": [
    "round(df[df.Country == 'France'].UnitPriceXQuantity.sum(),2)"
   ]
  },
  {
   "cell_type": "code",
   "execution_count": 32,
   "id": "ff1d5f76",
   "metadata": {},
   "outputs": [
    {
     "data": {
      "text/plain": [
       "221698.21"
      ]
     },
     "execution_count": 32,
     "metadata": {},
     "output_type": "execute_result"
    }
   ],
   "source": [
    "round(df[df.Country == 'Germany'].UnitPriceXQuantity.sum(),2)"
   ]
  },
  {
   "cell_type": "markdown",
   "id": "dc19b120",
   "metadata": {},
   "source": [
    "In other words, Germany bills more in total and in average sales.\n",
    "\n",
    "Thus, although France sells more units on average of more expensive products on average, Germany bills more in absolute terms. Probably because it has more sales (records and Quantity)."
   ]
  },
  {
   "cell_type": "markdown",
   "id": "a77c9ee8",
   "metadata": {},
   "source": [
    "2. Analysis by dates"
   ]
  },
  {
   "cell_type": "code",
   "execution_count": 33,
   "id": "1ac77a1a",
   "metadata": {},
   "outputs": [
    {
     "data": {
      "text/plain": [
       "dtype('O')"
      ]
     },
     "execution_count": 33,
     "metadata": {},
     "output_type": "execute_result"
    }
   ],
   "source": [
    "df.InvoiceDate.dtype"
   ]
  },
  {
   "cell_type": "code",
   "execution_count": 34,
   "id": "a237bd5e",
   "metadata": {},
   "outputs": [],
   "source": [
    "df.InvoiceDate = pd.to_datetime(df.InvoiceDate)"
   ]
  },
  {
   "cell_type": "code",
   "execution_count": 40,
   "id": "0f099c26",
   "metadata": {},
   "outputs": [
    {
     "data": {
      "text/plain": [
       "dtype('<M8[ns]')"
      ]
     },
     "execution_count": 40,
     "metadata": {},
     "output_type": "execute_result"
    }
   ],
   "source": [
    "df.InvoiceDate.dtype"
   ]
  },
  {
   "cell_type": "code",
   "execution_count": 41,
   "id": "1d846dba",
   "metadata": {},
   "outputs": [
    {
     "data": {
      "text/plain": [
       "0        2021-12-01 08:26:00\n",
       "1        2021-12-01 08:26:00\n",
       "2        2021-12-01 08:26:00\n",
       "3        2021-12-01 08:26:00\n",
       "4        2021-12-01 08:26:00\n",
       "                 ...        \n",
       "541904   2022-12-09 12:50:00\n",
       "541905   2022-12-09 12:50:00\n",
       "541906   2022-12-09 12:50:00\n",
       "541907   2022-12-09 12:50:00\n",
       "541908   2022-12-09 12:50:00\n",
       "Name: InvoiceDate, Length: 541909, dtype: datetime64[ns]"
      ]
     },
     "execution_count": 41,
     "metadata": {},
     "output_type": "execute_result"
    }
   ],
   "source": [
    "df.InvoiceDate"
   ]
  },
  {
   "cell_type": "code",
   "execution_count": 36,
   "id": "638467f1",
   "metadata": {},
   "outputs": [
    {
     "data": {
      "text/plain": [
       "0         2021\n",
       "1         2021\n",
       "2         2021\n",
       "3         2021\n",
       "4         2021\n",
       "          ... \n",
       "541904    2022\n",
       "541905    2022\n",
       "541906    2022\n",
       "541907    2022\n",
       "541908    2022\n",
       "Name: InvoiceDate, Length: 541909, dtype: int32"
      ]
     },
     "execution_count": 36,
     "metadata": {},
     "output_type": "execute_result"
    }
   ],
   "source": [
    "df.InvoiceDate.dt.year"
   ]
  },
  {
   "cell_type": "code",
   "execution_count": 38,
   "id": "5c93fa7b",
   "metadata": {},
   "outputs": [
    {
     "data": {
      "text/plain": [
       "0         2021\n",
       "1         2021\n",
       "2         2021\n",
       "3         2021\n",
       "4         2021\n",
       "          ... \n",
       "541904    2022\n",
       "541905    2022\n",
       "541906    2022\n",
       "541907    2022\n",
       "541908    2022\n",
       "Name: Year, Length: 541909, dtype: int32"
      ]
     },
     "execution_count": 38,
     "metadata": {},
     "output_type": "execute_result"
    }
   ],
   "source": [
    "df['Year'] = df.InvoiceDate.dt.year\n",
    "df.Year"
   ]
  },
  {
   "cell_type": "code",
   "execution_count": 39,
   "id": "031b2468",
   "metadata": {},
   "outputs": [
    {
     "data": {
      "text/html": [
       "<div>\n",
       "<style scoped>\n",
       "    .dataframe tbody tr th:only-of-type {\n",
       "        vertical-align: middle;\n",
       "    }\n",
       "\n",
       "    .dataframe tbody tr th {\n",
       "        vertical-align: top;\n",
       "    }\n",
       "\n",
       "    .dataframe thead th {\n",
       "        text-align: right;\n",
       "    }\n",
       "</style>\n",
       "<table border=\"1\" class=\"dataframe\">\n",
       "  <thead>\n",
       "    <tr style=\"text-align: right;\">\n",
       "      <th></th>\n",
       "      <th>InvoiceNo</th>\n",
       "      <th>StockCode</th>\n",
       "      <th>Description</th>\n",
       "      <th>Quantity</th>\n",
       "      <th>InvoiceDate</th>\n",
       "      <th>UnitPrice</th>\n",
       "      <th>CustomerID</th>\n",
       "      <th>Country</th>\n",
       "      <th>UnitPriceXQuantity</th>\n",
       "      <th>Year</th>\n",
       "    </tr>\n",
       "  </thead>\n",
       "  <tbody>\n",
       "    <tr>\n",
       "      <th>0</th>\n",
       "      <td>536365</td>\n",
       "      <td>85123A</td>\n",
       "      <td>WHITE HANGING HEART T-LIGHT HOLDER</td>\n",
       "      <td>6</td>\n",
       "      <td>2021-12-01 08:26:00</td>\n",
       "      <td>2.55</td>\n",
       "      <td>NaN</td>\n",
       "      <td>United Kingdom</td>\n",
       "      <td>15.30</td>\n",
       "      <td>2021</td>\n",
       "    </tr>\n",
       "    <tr>\n",
       "      <th>1</th>\n",
       "      <td>536365</td>\n",
       "      <td>71053</td>\n",
       "      <td>WHITE METAL LANTERN</td>\n",
       "      <td>6</td>\n",
       "      <td>2021-12-01 08:26:00</td>\n",
       "      <td>3.39</td>\n",
       "      <td>17850.0</td>\n",
       "      <td>United Kingdom</td>\n",
       "      <td>20.34</td>\n",
       "      <td>2021</td>\n",
       "    </tr>\n",
       "    <tr>\n",
       "      <th>2</th>\n",
       "      <td>536365</td>\n",
       "      <td>84406B</td>\n",
       "      <td>CREAM CUPID HEARTS COAT HANGER</td>\n",
       "      <td>8</td>\n",
       "      <td>2021-12-01 08:26:00</td>\n",
       "      <td>2.75</td>\n",
       "      <td>17850.0</td>\n",
       "      <td>United Kingdom</td>\n",
       "      <td>22.00</td>\n",
       "      <td>2021</td>\n",
       "    </tr>\n",
       "    <tr>\n",
       "      <th>3</th>\n",
       "      <td>536365</td>\n",
       "      <td>84029G</td>\n",
       "      <td>KNITTED UNION FLAG HOT WATER BOTTLE</td>\n",
       "      <td>6</td>\n",
       "      <td>2021-12-01 08:26:00</td>\n",
       "      <td>3.39</td>\n",
       "      <td>17850.0</td>\n",
       "      <td>United Kingdom</td>\n",
       "      <td>20.34</td>\n",
       "      <td>2021</td>\n",
       "    </tr>\n",
       "    <tr>\n",
       "      <th>4</th>\n",
       "      <td>536365</td>\n",
       "      <td>84029E</td>\n",
       "      <td>RED WOOLLY HOTTIE WHITE HEART.</td>\n",
       "      <td>6</td>\n",
       "      <td>2021-12-01 08:26:00</td>\n",
       "      <td>3.39</td>\n",
       "      <td>17850.0</td>\n",
       "      <td>United Kingdom</td>\n",
       "      <td>20.34</td>\n",
       "      <td>2021</td>\n",
       "    </tr>\n",
       "    <tr>\n",
       "      <th>...</th>\n",
       "      <td>...</td>\n",
       "      <td>...</td>\n",
       "      <td>...</td>\n",
       "      <td>...</td>\n",
       "      <td>...</td>\n",
       "      <td>...</td>\n",
       "      <td>...</td>\n",
       "      <td>...</td>\n",
       "      <td>...</td>\n",
       "      <td>...</td>\n",
       "    </tr>\n",
       "    <tr>\n",
       "      <th>541904</th>\n",
       "      <td>581587</td>\n",
       "      <td>22613</td>\n",
       "      <td>PACK OF 20 SPACEBOY NAPKINS</td>\n",
       "      <td>12</td>\n",
       "      <td>2022-12-09 12:50:00</td>\n",
       "      <td>0.85</td>\n",
       "      <td>12680.0</td>\n",
       "      <td>France</td>\n",
       "      <td>10.20</td>\n",
       "      <td>2022</td>\n",
       "    </tr>\n",
       "    <tr>\n",
       "      <th>541905</th>\n",
       "      <td>581587</td>\n",
       "      <td>22899</td>\n",
       "      <td>CHILDREN'S APRON DOLLY GIRL</td>\n",
       "      <td>6</td>\n",
       "      <td>2022-12-09 12:50:00</td>\n",
       "      <td>2.10</td>\n",
       "      <td>12680.0</td>\n",
       "      <td>France</td>\n",
       "      <td>12.60</td>\n",
       "      <td>2022</td>\n",
       "    </tr>\n",
       "    <tr>\n",
       "      <th>541906</th>\n",
       "      <td>581587</td>\n",
       "      <td>23254</td>\n",
       "      <td>CHILDRENS CUTLERY DOLLY GIRL</td>\n",
       "      <td>4</td>\n",
       "      <td>2022-12-09 12:50:00</td>\n",
       "      <td>4.15</td>\n",
       "      <td>12680.0</td>\n",
       "      <td>France</td>\n",
       "      <td>16.60</td>\n",
       "      <td>2022</td>\n",
       "    </tr>\n",
       "    <tr>\n",
       "      <th>541907</th>\n",
       "      <td>581587</td>\n",
       "      <td>23255</td>\n",
       "      <td>CHILDRENS CUTLERY CIRCUS PARADE</td>\n",
       "      <td>4</td>\n",
       "      <td>2022-12-09 12:50:00</td>\n",
       "      <td>4.15</td>\n",
       "      <td>12680.0</td>\n",
       "      <td>France</td>\n",
       "      <td>16.60</td>\n",
       "      <td>2022</td>\n",
       "    </tr>\n",
       "    <tr>\n",
       "      <th>541908</th>\n",
       "      <td>581587</td>\n",
       "      <td>22138</td>\n",
       "      <td>BAKING SET 9 PIECE RETROSPOT</td>\n",
       "      <td>3</td>\n",
       "      <td>2022-12-09 12:50:00</td>\n",
       "      <td>4.95</td>\n",
       "      <td>12680.0</td>\n",
       "      <td>France</td>\n",
       "      <td>14.85</td>\n",
       "      <td>2022</td>\n",
       "    </tr>\n",
       "  </tbody>\n",
       "</table>\n",
       "<p>541909 rows × 10 columns</p>\n",
       "</div>"
      ],
      "text/plain": [
       "       InvoiceNo StockCode                          Description  Quantity   \n",
       "0         536365    85123A   WHITE HANGING HEART T-LIGHT HOLDER         6  \\\n",
       "1         536365     71053                  WHITE METAL LANTERN         6   \n",
       "2         536365    84406B       CREAM CUPID HEARTS COAT HANGER         8   \n",
       "3         536365    84029G  KNITTED UNION FLAG HOT WATER BOTTLE         6   \n",
       "4         536365    84029E       RED WOOLLY HOTTIE WHITE HEART.         6   \n",
       "...          ...       ...                                  ...       ...   \n",
       "541904    581587     22613          PACK OF 20 SPACEBOY NAPKINS        12   \n",
       "541905    581587     22899         CHILDREN'S APRON DOLLY GIRL          6   \n",
       "541906    581587     23254        CHILDRENS CUTLERY DOLLY GIRL          4   \n",
       "541907    581587     23255      CHILDRENS CUTLERY CIRCUS PARADE         4   \n",
       "541908    581587     22138        BAKING SET 9 PIECE RETROSPOT          3   \n",
       "\n",
       "               InvoiceDate  UnitPrice  CustomerID         Country   \n",
       "0      2021-12-01 08:26:00       2.55         NaN  United Kingdom  \\\n",
       "1      2021-12-01 08:26:00       3.39     17850.0  United Kingdom   \n",
       "2      2021-12-01 08:26:00       2.75     17850.0  United Kingdom   \n",
       "3      2021-12-01 08:26:00       3.39     17850.0  United Kingdom   \n",
       "4      2021-12-01 08:26:00       3.39     17850.0  United Kingdom   \n",
       "...                    ...        ...         ...             ...   \n",
       "541904 2022-12-09 12:50:00       0.85     12680.0          France   \n",
       "541905 2022-12-09 12:50:00       2.10     12680.0          France   \n",
       "541906 2022-12-09 12:50:00       4.15     12680.0          France   \n",
       "541907 2022-12-09 12:50:00       4.15     12680.0          France   \n",
       "541908 2022-12-09 12:50:00       4.95     12680.0          France   \n",
       "\n",
       "        UnitPriceXQuantity  Year  \n",
       "0                    15.30  2021  \n",
       "1                    20.34  2021  \n",
       "2                    22.00  2021  \n",
       "3                    20.34  2021  \n",
       "4                    20.34  2021  \n",
       "...                    ...   ...  \n",
       "541904               10.20  2022  \n",
       "541905               12.60  2022  \n",
       "541906               16.60  2022  \n",
       "541907               16.60  2022  \n",
       "541908               14.85  2022  \n",
       "\n",
       "[541909 rows x 10 columns]"
      ]
     },
     "execution_count": 39,
     "metadata": {},
     "output_type": "execute_result"
    }
   ],
   "source": [
    "df"
   ]
  },
  {
   "cell_type": "markdown",
   "id": "5adb603b",
   "metadata": {},
   "source": [
    "3. Returns Analysis"
   ]
  },
  {
   "cell_type": "code",
   "execution_count": 42,
   "id": "080a45f9",
   "metadata": {},
   "outputs": [
    {
     "data": {
      "text/html": [
       "<div>\n",
       "<style scoped>\n",
       "    .dataframe tbody tr th:only-of-type {\n",
       "        vertical-align: middle;\n",
       "    }\n",
       "\n",
       "    .dataframe tbody tr th {\n",
       "        vertical-align: top;\n",
       "    }\n",
       "\n",
       "    .dataframe thead th {\n",
       "        text-align: right;\n",
       "    }\n",
       "</style>\n",
       "<table border=\"1\" class=\"dataframe\">\n",
       "  <thead>\n",
       "    <tr style=\"text-align: right;\">\n",
       "      <th></th>\n",
       "      <th>InvoiceNo</th>\n",
       "      <th>StockCode</th>\n",
       "      <th>Description</th>\n",
       "      <th>Quantity</th>\n",
       "      <th>InvoiceDate</th>\n",
       "      <th>UnitPrice</th>\n",
       "      <th>CustomerID</th>\n",
       "      <th>Country</th>\n",
       "      <th>UnitPriceXQuantity</th>\n",
       "      <th>Year</th>\n",
       "    </tr>\n",
       "  </thead>\n",
       "  <tbody>\n",
       "    <tr>\n",
       "      <th>141</th>\n",
       "      <td>C536379</td>\n",
       "      <td>D</td>\n",
       "      <td>Discount</td>\n",
       "      <td>-1</td>\n",
       "      <td>2021-12-01 09:41:00</td>\n",
       "      <td>27.50</td>\n",
       "      <td>14527.0</td>\n",
       "      <td>United Kingdom</td>\n",
       "      <td>-27.50</td>\n",
       "      <td>2021</td>\n",
       "    </tr>\n",
       "    <tr>\n",
       "      <th>154</th>\n",
       "      <td>C536383</td>\n",
       "      <td>35004C</td>\n",
       "      <td>SET OF 3 COLOURED  FLYING DUCKS</td>\n",
       "      <td>-1</td>\n",
       "      <td>2021-12-01 09:49:00</td>\n",
       "      <td>4.65</td>\n",
       "      <td>15311.0</td>\n",
       "      <td>United Kingdom</td>\n",
       "      <td>-4.65</td>\n",
       "      <td>2021</td>\n",
       "    </tr>\n",
       "    <tr>\n",
       "      <th>235</th>\n",
       "      <td>C536391</td>\n",
       "      <td>22556</td>\n",
       "      <td>PLASTERS IN TIN CIRCUS PARADE</td>\n",
       "      <td>-12</td>\n",
       "      <td>2021-12-01 10:24:00</td>\n",
       "      <td>1.65</td>\n",
       "      <td>17548.0</td>\n",
       "      <td>United Kingdom</td>\n",
       "      <td>-19.80</td>\n",
       "      <td>2021</td>\n",
       "    </tr>\n",
       "    <tr>\n",
       "      <th>236</th>\n",
       "      <td>C536391</td>\n",
       "      <td>21984</td>\n",
       "      <td>PACK OF 12 PINK PAISLEY TISSUES</td>\n",
       "      <td>-24</td>\n",
       "      <td>2021-12-01 10:24:00</td>\n",
       "      <td>0.29</td>\n",
       "      <td>17548.0</td>\n",
       "      <td>United Kingdom</td>\n",
       "      <td>-6.96</td>\n",
       "      <td>2021</td>\n",
       "    </tr>\n",
       "    <tr>\n",
       "      <th>237</th>\n",
       "      <td>C536391</td>\n",
       "      <td>21983</td>\n",
       "      <td>PACK OF 12 BLUE PAISLEY TISSUES</td>\n",
       "      <td>-24</td>\n",
       "      <td>2021-12-01 10:24:00</td>\n",
       "      <td>0.29</td>\n",
       "      <td>17548.0</td>\n",
       "      <td>United Kingdom</td>\n",
       "      <td>-6.96</td>\n",
       "      <td>2021</td>\n",
       "    </tr>\n",
       "    <tr>\n",
       "      <th>...</th>\n",
       "      <td>...</td>\n",
       "      <td>...</td>\n",
       "      <td>...</td>\n",
       "      <td>...</td>\n",
       "      <td>...</td>\n",
       "      <td>...</td>\n",
       "      <td>...</td>\n",
       "      <td>...</td>\n",
       "      <td>...</td>\n",
       "      <td>...</td>\n",
       "    </tr>\n",
       "    <tr>\n",
       "      <th>540449</th>\n",
       "      <td>C581490</td>\n",
       "      <td>23144</td>\n",
       "      <td>ZINC T-LIGHT HOLDER STARS SMALL</td>\n",
       "      <td>-11</td>\n",
       "      <td>2022-12-09 09:57:00</td>\n",
       "      <td>0.83</td>\n",
       "      <td>14397.0</td>\n",
       "      <td>United Kingdom</td>\n",
       "      <td>-9.13</td>\n",
       "      <td>2022</td>\n",
       "    </tr>\n",
       "    <tr>\n",
       "      <th>541541</th>\n",
       "      <td>C581499</td>\n",
       "      <td>M</td>\n",
       "      <td>Manual</td>\n",
       "      <td>-1</td>\n",
       "      <td>2022-12-09 10:28:00</td>\n",
       "      <td>224.69</td>\n",
       "      <td>15498.0</td>\n",
       "      <td>United Kingdom</td>\n",
       "      <td>-224.69</td>\n",
       "      <td>2022</td>\n",
       "    </tr>\n",
       "    <tr>\n",
       "      <th>541715</th>\n",
       "      <td>C581568</td>\n",
       "      <td>21258</td>\n",
       "      <td>VICTORIAN SEWING BOX LARGE</td>\n",
       "      <td>-5</td>\n",
       "      <td>2022-12-09 11:57:00</td>\n",
       "      <td>10.95</td>\n",
       "      <td>15311.0</td>\n",
       "      <td>United Kingdom</td>\n",
       "      <td>-54.75</td>\n",
       "      <td>2022</td>\n",
       "    </tr>\n",
       "    <tr>\n",
       "      <th>541716</th>\n",
       "      <td>C581569</td>\n",
       "      <td>84978</td>\n",
       "      <td>HANGING HEART JAR T-LIGHT HOLDER</td>\n",
       "      <td>-1</td>\n",
       "      <td>2022-12-09 11:58:00</td>\n",
       "      <td>1.25</td>\n",
       "      <td>17315.0</td>\n",
       "      <td>United Kingdom</td>\n",
       "      <td>-1.25</td>\n",
       "      <td>2022</td>\n",
       "    </tr>\n",
       "    <tr>\n",
       "      <th>541717</th>\n",
       "      <td>C581569</td>\n",
       "      <td>20979</td>\n",
       "      <td>36 PENCILS TUBE RED RETROSPOT</td>\n",
       "      <td>-5</td>\n",
       "      <td>2022-12-09 11:58:00</td>\n",
       "      <td>1.25</td>\n",
       "      <td>17315.0</td>\n",
       "      <td>United Kingdom</td>\n",
       "      <td>-6.25</td>\n",
       "      <td>2022</td>\n",
       "    </tr>\n",
       "  </tbody>\n",
       "</table>\n",
       "<p>10624 rows × 10 columns</p>\n",
       "</div>"
      ],
      "text/plain": [
       "       InvoiceNo StockCode                       Description  Quantity   \n",
       "141      C536379         D                          Discount        -1  \\\n",
       "154      C536383    35004C   SET OF 3 COLOURED  FLYING DUCKS        -1   \n",
       "235      C536391     22556    PLASTERS IN TIN CIRCUS PARADE        -12   \n",
       "236      C536391     21984  PACK OF 12 PINK PAISLEY TISSUES        -24   \n",
       "237      C536391     21983  PACK OF 12 BLUE PAISLEY TISSUES        -24   \n",
       "...          ...       ...                               ...       ...   \n",
       "540449   C581490     23144   ZINC T-LIGHT HOLDER STARS SMALL       -11   \n",
       "541541   C581499         M                            Manual        -1   \n",
       "541715   C581568     21258        VICTORIAN SEWING BOX LARGE        -5   \n",
       "541716   C581569     84978  HANGING HEART JAR T-LIGHT HOLDER        -1   \n",
       "541717   C581569     20979     36 PENCILS TUBE RED RETROSPOT        -5   \n",
       "\n",
       "               InvoiceDate  UnitPrice  CustomerID         Country   \n",
       "141    2021-12-01 09:41:00      27.50     14527.0  United Kingdom  \\\n",
       "154    2021-12-01 09:49:00       4.65     15311.0  United Kingdom   \n",
       "235    2021-12-01 10:24:00       1.65     17548.0  United Kingdom   \n",
       "236    2021-12-01 10:24:00       0.29     17548.0  United Kingdom   \n",
       "237    2021-12-01 10:24:00       0.29     17548.0  United Kingdom   \n",
       "...                    ...        ...         ...             ...   \n",
       "540449 2022-12-09 09:57:00       0.83     14397.0  United Kingdom   \n",
       "541541 2022-12-09 10:28:00     224.69     15498.0  United Kingdom   \n",
       "541715 2022-12-09 11:57:00      10.95     15311.0  United Kingdom   \n",
       "541716 2022-12-09 11:58:00       1.25     17315.0  United Kingdom   \n",
       "541717 2022-12-09 11:58:00       1.25     17315.0  United Kingdom   \n",
       "\n",
       "        UnitPriceXQuantity  Year  \n",
       "141                 -27.50  2021  \n",
       "154                  -4.65  2021  \n",
       "235                 -19.80  2021  \n",
       "236                  -6.96  2021  \n",
       "237                  -6.96  2021  \n",
       "...                    ...   ...  \n",
       "540449               -9.13  2022  \n",
       "541541             -224.69  2022  \n",
       "541715              -54.75  2022  \n",
       "541716               -1.25  2022  \n",
       "541717               -6.25  2022  \n",
       "\n",
       "[10624 rows x 10 columns]"
      ]
     },
     "execution_count": 42,
     "metadata": {},
     "output_type": "execute_result"
    }
   ],
   "source": [
    "df[df.Quantity < 0]"
   ]
  },
  {
   "cell_type": "code",
   "execution_count": 43,
   "id": "27ecf93e",
   "metadata": {},
   "outputs": [
    {
     "data": {
      "text/plain": [
       "-12311.21"
      ]
     },
     "execution_count": 43,
     "metadata": {},
     "output_type": "execute_result"
    }
   ],
   "source": [
    "df[(df.Quantity < 0) & (df.Country == 'France')].UnitPriceXQuantity.sum()"
   ]
  },
  {
   "cell_type": "code",
   "execution_count": 44,
   "id": "d0c78959",
   "metadata": {},
   "outputs": [
    {
     "data": {
      "text/plain": [
       "-7168.929999999999"
      ]
     },
     "execution_count": 44,
     "metadata": {},
     "output_type": "execute_result"
    }
   ],
   "source": [
    "df[(df.Quantity < 0) & (df.Country == 'Germany')].UnitPriceXQuantity.sum()"
   ]
  },
  {
   "cell_type": "code",
   "execution_count": 45,
   "id": "2d6b1228",
   "metadata": {},
   "outputs": [],
   "source": [
    "## France has more refunds than Germany"
   ]
  },
  {
   "cell_type": "code",
   "execution_count": 46,
   "id": "bb26a481",
   "metadata": {},
   "outputs": [
    {
     "data": {
      "text/plain": [
       "149"
      ]
     },
     "execution_count": 46,
     "metadata": {},
     "output_type": "execute_result"
    }
   ],
   "source": [
    "df[(df.Quantity < 0) & (df.Country == 'France')].UnitPriceXQuantity.count()"
   ]
  },
  {
   "cell_type": "code",
   "execution_count": 47,
   "id": "8fb29546",
   "metadata": {},
   "outputs": [
    {
     "data": {
      "text/plain": [
       "453"
      ]
     },
     "execution_count": 47,
     "metadata": {},
     "output_type": "execute_result"
    }
   ],
   "source": [
    "df[(df.Quantity < 0) & (df.Country == 'Germany')].UnitPriceXQuantity.count()"
   ]
  },
  {
   "cell_type": "code",
   "execution_count": 49,
   "id": "b4ca5492",
   "metadata": {},
   "outputs": [],
   "source": [
    "# Although the number of returns in France is much lower"
   ]
  },
  {
   "cell_type": "code",
   "execution_count": 50,
   "id": "3a9fe386",
   "metadata": {},
   "outputs": [
    {
     "data": {
      "text/html": [
       "<div>\n",
       "<style scoped>\n",
       "    .dataframe tbody tr th:only-of-type {\n",
       "        vertical-align: middle;\n",
       "    }\n",
       "\n",
       "    .dataframe tbody tr th {\n",
       "        vertical-align: top;\n",
       "    }\n",
       "\n",
       "    .dataframe thead th {\n",
       "        text-align: right;\n",
       "    }\n",
       "</style>\n",
       "<table border=\"1\" class=\"dataframe\">\n",
       "  <thead>\n",
       "    <tr style=\"text-align: right;\">\n",
       "      <th></th>\n",
       "      <th>InvoiceNo</th>\n",
       "      <th>StockCode</th>\n",
       "      <th>Description</th>\n",
       "      <th>Quantity</th>\n",
       "      <th>InvoiceDate</th>\n",
       "      <th>UnitPrice</th>\n",
       "      <th>CustomerID</th>\n",
       "      <th>Country</th>\n",
       "      <th>UnitPriceXQuantity</th>\n",
       "      <th>Year</th>\n",
       "    </tr>\n",
       "  </thead>\n",
       "  <tbody>\n",
       "    <tr>\n",
       "      <th>145832</th>\n",
       "      <td>C548914</td>\n",
       "      <td>M</td>\n",
       "      <td>Manual</td>\n",
       "      <td>-1</td>\n",
       "      <td>2022-04-05 09:46:00</td>\n",
       "      <td>1136.30</td>\n",
       "      <td>12669.0</td>\n",
       "      <td>France</td>\n",
       "      <td>-1136.30</td>\n",
       "      <td>2022</td>\n",
       "    </tr>\n",
       "    <tr>\n",
       "      <th>422375</th>\n",
       "      <td>C573079</td>\n",
       "      <td>M</td>\n",
       "      <td>Manual</td>\n",
       "      <td>-2</td>\n",
       "      <td>2022-10-27 14:15:00</td>\n",
       "      <td>4161.06</td>\n",
       "      <td>12536.0</td>\n",
       "      <td>France</td>\n",
       "      <td>-8322.12</td>\n",
       "      <td>2022</td>\n",
       "    </tr>\n",
       "    <tr>\n",
       "      <th>508002</th>\n",
       "      <td>C579192</td>\n",
       "      <td>22959</td>\n",
       "      <td>WRAP CHRISTMAS VILLAGE</td>\n",
       "      <td>-250</td>\n",
       "      <td>2022-11-28 15:43:00</td>\n",
       "      <td>0.42</td>\n",
       "      <td>12657.0</td>\n",
       "      <td>France</td>\n",
       "      <td>-105.00</td>\n",
       "      <td>2022</td>\n",
       "    </tr>\n",
       "    <tr>\n",
       "      <th>508006</th>\n",
       "      <td>C579192</td>\n",
       "      <td>22423</td>\n",
       "      <td>REGENCY CAKESTAND 3 TIER</td>\n",
       "      <td>-10</td>\n",
       "      <td>2022-11-28 15:43:00</td>\n",
       "      <td>12.75</td>\n",
       "      <td>12657.0</td>\n",
       "      <td>France</td>\n",
       "      <td>-127.50</td>\n",
       "      <td>2022</td>\n",
       "    </tr>\n",
       "  </tbody>\n",
       "</table>\n",
       "</div>"
      ],
      "text/plain": [
       "       InvoiceNo StockCode               Description  Quantity   \n",
       "145832   C548914         M                    Manual        -1  \\\n",
       "422375   C573079         M                    Manual        -2   \n",
       "508002   C579192     22959    WRAP CHRISTMAS VILLAGE      -250   \n",
       "508006   C579192     22423  REGENCY CAKESTAND 3 TIER       -10   \n",
       "\n",
       "               InvoiceDate  UnitPrice  CustomerID Country  UnitPriceXQuantity   \n",
       "145832 2022-04-05 09:46:00    1136.30     12669.0  France            -1136.30  \\\n",
       "422375 2022-10-27 14:15:00    4161.06     12536.0  France            -8322.12   \n",
       "508002 2022-11-28 15:43:00       0.42     12657.0  France             -105.00   \n",
       "508006 2022-11-28 15:43:00      12.75     12657.0  France             -127.50   \n",
       "\n",
       "        Year  \n",
       "145832  2022  \n",
       "422375  2022  \n",
       "508002  2022  \n",
       "508006  2022  "
      ]
     },
     "execution_count": 50,
     "metadata": {},
     "output_type": "execute_result"
    }
   ],
   "source": [
    "df[(df.UnitPriceXQuantity <= -100) & (df.Country == 'France')]"
   ]
  },
  {
   "cell_type": "markdown",
   "id": "9b7319d1",
   "metadata": {},
   "source": [
    "We effectively see that we have data that is probably atypical, we should evaluate what to do with it"
   ]
  },
  {
   "cell_type": "code",
   "execution_count": 51,
   "id": "31dd1375",
   "metadata": {},
   "outputs": [
    {
     "data": {
      "text/html": [
       "<div>\n",
       "<style scoped>\n",
       "    .dataframe tbody tr th:only-of-type {\n",
       "        vertical-align: middle;\n",
       "    }\n",
       "\n",
       "    .dataframe tbody tr th {\n",
       "        vertical-align: top;\n",
       "    }\n",
       "\n",
       "    .dataframe thead th {\n",
       "        text-align: right;\n",
       "    }\n",
       "</style>\n",
       "<table border=\"1\" class=\"dataframe\">\n",
       "  <thead>\n",
       "    <tr style=\"text-align: right;\">\n",
       "      <th></th>\n",
       "      <th>InvoiceNo</th>\n",
       "      <th>StockCode</th>\n",
       "      <th>Description</th>\n",
       "      <th>Quantity</th>\n",
       "      <th>InvoiceDate</th>\n",
       "      <th>UnitPrice</th>\n",
       "      <th>CustomerID</th>\n",
       "      <th>Country</th>\n",
       "      <th>UnitPriceXQuantity</th>\n",
       "      <th>Year</th>\n",
       "    </tr>\n",
       "  </thead>\n",
       "  <tbody>\n",
       "    <tr>\n",
       "      <th>39440</th>\n",
       "      <td>C539644</td>\n",
       "      <td>22423</td>\n",
       "      <td>REGENCY CAKESTAND 3 TIER</td>\n",
       "      <td>-21</td>\n",
       "      <td>2021-12-20 15:52:00</td>\n",
       "      <td>10.95</td>\n",
       "      <td>12471.0</td>\n",
       "      <td>Germany</td>\n",
       "      <td>-229.95</td>\n",
       "      <td>2021</td>\n",
       "    </tr>\n",
       "    <tr>\n",
       "      <th>159710</th>\n",
       "      <td>C550355</td>\n",
       "      <td>M</td>\n",
       "      <td>Manual</td>\n",
       "      <td>-1</td>\n",
       "      <td>2022-04-18 10:29:00</td>\n",
       "      <td>222.75</td>\n",
       "      <td>13811.0</td>\n",
       "      <td>Germany</td>\n",
       "      <td>-222.75</td>\n",
       "      <td>2022</td>\n",
       "    </tr>\n",
       "    <tr>\n",
       "      <th>249284</th>\n",
       "      <td>C558897</td>\n",
       "      <td>M</td>\n",
       "      <td>Manual</td>\n",
       "      <td>-1</td>\n",
       "      <td>2022-07-04 15:55:00</td>\n",
       "      <td>389.68</td>\n",
       "      <td>12619.0</td>\n",
       "      <td>Germany</td>\n",
       "      <td>-389.68</td>\n",
       "      <td>2022</td>\n",
       "    </tr>\n",
       "    <tr>\n",
       "      <th>398147</th>\n",
       "      <td>C571220</td>\n",
       "      <td>M</td>\n",
       "      <td>Manual</td>\n",
       "      <td>-1</td>\n",
       "      <td>2022-10-14 13:35:00</td>\n",
       "      <td>599.50</td>\n",
       "      <td>13810.0</td>\n",
       "      <td>Germany</td>\n",
       "      <td>-599.50</td>\n",
       "      <td>2022</td>\n",
       "    </tr>\n",
       "    <tr>\n",
       "      <th>422040</th>\n",
       "      <td>C573037</td>\n",
       "      <td>22423</td>\n",
       "      <td>REGENCY CAKESTAND 3 TIER</td>\n",
       "      <td>-11</td>\n",
       "      <td>2022-10-27 13:45:00</td>\n",
       "      <td>10.95</td>\n",
       "      <td>12471.0</td>\n",
       "      <td>Germany</td>\n",
       "      <td>-120.45</td>\n",
       "      <td>2022</td>\n",
       "    </tr>\n",
       "    <tr>\n",
       "      <th>455646</th>\n",
       "      <td>C575635</td>\n",
       "      <td>M</td>\n",
       "      <td>Manual</td>\n",
       "      <td>-1</td>\n",
       "      <td>2022-11-10 13:45:00</td>\n",
       "      <td>424.06</td>\n",
       "      <td>12473.0</td>\n",
       "      <td>Germany</td>\n",
       "      <td>-424.06</td>\n",
       "      <td>2022</td>\n",
       "    </tr>\n",
       "    <tr>\n",
       "      <th>455647</th>\n",
       "      <td>C575635</td>\n",
       "      <td>M</td>\n",
       "      <td>Manual</td>\n",
       "      <td>-1</td>\n",
       "      <td>2022-11-10 13:45:00</td>\n",
       "      <td>549.34</td>\n",
       "      <td>12473.0</td>\n",
       "      <td>Germany</td>\n",
       "      <td>-549.34</td>\n",
       "      <td>2022</td>\n",
       "    </tr>\n",
       "    <tr>\n",
       "      <th>487712</th>\n",
       "      <td>C577775</td>\n",
       "      <td>22236</td>\n",
       "      <td>CAKE STAND 3 TIER MAGIC GARDEN</td>\n",
       "      <td>-12</td>\n",
       "      <td>2022-11-21 16:00:00</td>\n",
       "      <td>10.95</td>\n",
       "      <td>12504.0</td>\n",
       "      <td>Germany</td>\n",
       "      <td>-131.40</td>\n",
       "      <td>2022</td>\n",
       "    </tr>\n",
       "    <tr>\n",
       "      <th>487713</th>\n",
       "      <td>C577775</td>\n",
       "      <td>22776</td>\n",
       "      <td>SWEETHEART 3 TIER CAKE STAND</td>\n",
       "      <td>-12</td>\n",
       "      <td>2022-11-21 16:00:00</td>\n",
       "      <td>8.50</td>\n",
       "      <td>12504.0</td>\n",
       "      <td>Germany</td>\n",
       "      <td>-102.00</td>\n",
       "      <td>2022</td>\n",
       "    </tr>\n",
       "    <tr>\n",
       "      <th>487714</th>\n",
       "      <td>C577775</td>\n",
       "      <td>22220</td>\n",
       "      <td>CAKE STAND LOVEBIRD 2 TIER WHITE</td>\n",
       "      <td>-12</td>\n",
       "      <td>2022-11-21 16:00:00</td>\n",
       "      <td>8.50</td>\n",
       "      <td>12504.0</td>\n",
       "      <td>Germany</td>\n",
       "      <td>-102.00</td>\n",
       "      <td>2022</td>\n",
       "    </tr>\n",
       "  </tbody>\n",
       "</table>\n",
       "</div>"
      ],
      "text/plain": [
       "       InvoiceNo StockCode                       Description  Quantity   \n",
       "39440    C539644     22423          REGENCY CAKESTAND 3 TIER       -21  \\\n",
       "159710   C550355         M                            Manual        -1   \n",
       "249284   C558897         M                            Manual        -1   \n",
       "398147   C571220         M                            Manual        -1   \n",
       "422040   C573037     22423          REGENCY CAKESTAND 3 TIER       -11   \n",
       "455646   C575635         M                            Manual        -1   \n",
       "455647   C575635         M                            Manual        -1   \n",
       "487712   C577775     22236    CAKE STAND 3 TIER MAGIC GARDEN       -12   \n",
       "487713   C577775     22776     SWEETHEART 3 TIER CAKE STAND        -12   \n",
       "487714   C577775     22220  CAKE STAND LOVEBIRD 2 TIER WHITE       -12   \n",
       "\n",
       "               InvoiceDate  UnitPrice  CustomerID  Country   \n",
       "39440  2021-12-20 15:52:00      10.95     12471.0  Germany  \\\n",
       "159710 2022-04-18 10:29:00     222.75     13811.0  Germany   \n",
       "249284 2022-07-04 15:55:00     389.68     12619.0  Germany   \n",
       "398147 2022-10-14 13:35:00     599.50     13810.0  Germany   \n",
       "422040 2022-10-27 13:45:00      10.95     12471.0  Germany   \n",
       "455646 2022-11-10 13:45:00     424.06     12473.0  Germany   \n",
       "455647 2022-11-10 13:45:00     549.34     12473.0  Germany   \n",
       "487712 2022-11-21 16:00:00      10.95     12504.0  Germany   \n",
       "487713 2022-11-21 16:00:00       8.50     12504.0  Germany   \n",
       "487714 2022-11-21 16:00:00       8.50     12504.0  Germany   \n",
       "\n",
       "        UnitPriceXQuantity  Year  \n",
       "39440              -229.95  2021  \n",
       "159710             -222.75  2022  \n",
       "249284             -389.68  2022  \n",
       "398147             -599.50  2022  \n",
       "422040             -120.45  2022  \n",
       "455646             -424.06  2022  \n",
       "455647             -549.34  2022  \n",
       "487712             -131.40  2022  \n",
       "487713             -102.00  2022  \n",
       "487714             -102.00  2022  "
      ]
     },
     "execution_count": 51,
     "metadata": {},
     "output_type": "execute_result"
    }
   ],
   "source": [
    "df[(df.UnitPriceXQuantity <= -100) & (df.Country == 'Germany')]"
   ]
  },
  {
   "cell_type": "code",
   "execution_count": 52,
   "id": "c9578ace",
   "metadata": {},
   "outputs": [
    {
     "data": {
      "text/html": [
       "<div>\n",
       "<style scoped>\n",
       "    .dataframe tbody tr th:only-of-type {\n",
       "        vertical-align: middle;\n",
       "    }\n",
       "\n",
       "    .dataframe tbody tr th {\n",
       "        vertical-align: top;\n",
       "    }\n",
       "\n",
       "    .dataframe thead th {\n",
       "        text-align: right;\n",
       "    }\n",
       "</style>\n",
       "<table border=\"1\" class=\"dataframe\">\n",
       "  <thead>\n",
       "    <tr style=\"text-align: right;\">\n",
       "      <th></th>\n",
       "      <th>InvoiceNo</th>\n",
       "      <th>StockCode</th>\n",
       "      <th>Description</th>\n",
       "      <th>Quantity</th>\n",
       "      <th>InvoiceDate</th>\n",
       "      <th>UnitPrice</th>\n",
       "      <th>CustomerID</th>\n",
       "      <th>Country</th>\n",
       "      <th>UnitPriceXQuantity</th>\n",
       "      <th>Year</th>\n",
       "    </tr>\n",
       "  </thead>\n",
       "  <tbody>\n",
       "    <tr>\n",
       "      <th>2239</th>\n",
       "      <td>536569</td>\n",
       "      <td>M</td>\n",
       "      <td>Manual</td>\n",
       "      <td>1</td>\n",
       "      <td>2021-12-01 15:35:00</td>\n",
       "      <td>1.25</td>\n",
       "      <td>16274.0</td>\n",
       "      <td>United Kingdom</td>\n",
       "      <td>1.25</td>\n",
       "      <td>2021</td>\n",
       "    </tr>\n",
       "    <tr>\n",
       "      <th>2250</th>\n",
       "      <td>536569</td>\n",
       "      <td>M</td>\n",
       "      <td>Manual</td>\n",
       "      <td>1</td>\n",
       "      <td>2021-12-01 15:35:00</td>\n",
       "      <td>18.95</td>\n",
       "      <td>16274.0</td>\n",
       "      <td>United Kingdom</td>\n",
       "      <td>18.95</td>\n",
       "      <td>2021</td>\n",
       "    </tr>\n",
       "    <tr>\n",
       "      <th>5684</th>\n",
       "      <td>536865</td>\n",
       "      <td>M</td>\n",
       "      <td>Manual</td>\n",
       "      <td>1</td>\n",
       "      <td>2021-12-03 11:28:00</td>\n",
       "      <td>2.55</td>\n",
       "      <td>NaN</td>\n",
       "      <td>United Kingdom</td>\n",
       "      <td>2.55</td>\n",
       "      <td>2021</td>\n",
       "    </tr>\n",
       "    <tr>\n",
       "      <th>6798</th>\n",
       "      <td>536981</td>\n",
       "      <td>M</td>\n",
       "      <td>Manual</td>\n",
       "      <td>2</td>\n",
       "      <td>2021-12-03 14:26:00</td>\n",
       "      <td>0.85</td>\n",
       "      <td>14723.0</td>\n",
       "      <td>United Kingdom</td>\n",
       "      <td>1.70</td>\n",
       "      <td>2021</td>\n",
       "    </tr>\n",
       "    <tr>\n",
       "      <th>7976</th>\n",
       "      <td>537077</td>\n",
       "      <td>M</td>\n",
       "      <td>Manual</td>\n",
       "      <td>12</td>\n",
       "      <td>2021-12-05 11:59:00</td>\n",
       "      <td>0.42</td>\n",
       "      <td>17062.0</td>\n",
       "      <td>United Kingdom</td>\n",
       "      <td>5.04</td>\n",
       "      <td>2021</td>\n",
       "    </tr>\n",
       "    <tr>\n",
       "      <th>...</th>\n",
       "      <td>...</td>\n",
       "      <td>...</td>\n",
       "      <td>...</td>\n",
       "      <td>...</td>\n",
       "      <td>...</td>\n",
       "      <td>...</td>\n",
       "      <td>...</td>\n",
       "      <td>...</td>\n",
       "      <td>...</td>\n",
       "      <td>...</td>\n",
       "    </tr>\n",
       "    <tr>\n",
       "      <th>531432</th>\n",
       "      <td>580956</td>\n",
       "      <td>M</td>\n",
       "      <td>Manual</td>\n",
       "      <td>4</td>\n",
       "      <td>2022-12-06 14:23:00</td>\n",
       "      <td>1.25</td>\n",
       "      <td>17841.0</td>\n",
       "      <td>United Kingdom</td>\n",
       "      <td>5.00</td>\n",
       "      <td>2022</td>\n",
       "    </tr>\n",
       "    <tr>\n",
       "      <th>533082</th>\n",
       "      <td>C581009</td>\n",
       "      <td>M</td>\n",
       "      <td>Manual</td>\n",
       "      <td>-1</td>\n",
       "      <td>2022-12-07 09:15:00</td>\n",
       "      <td>125.00</td>\n",
       "      <td>16971.0</td>\n",
       "      <td>United Kingdom</td>\n",
       "      <td>-125.00</td>\n",
       "      <td>2022</td>\n",
       "    </tr>\n",
       "    <tr>\n",
       "      <th>534308</th>\n",
       "      <td>C581145</td>\n",
       "      <td>M</td>\n",
       "      <td>Manual</td>\n",
       "      <td>-1</td>\n",
       "      <td>2022-12-07 13:48:00</td>\n",
       "      <td>9.95</td>\n",
       "      <td>17490.0</td>\n",
       "      <td>United Kingdom</td>\n",
       "      <td>-9.95</td>\n",
       "      <td>2022</td>\n",
       "    </tr>\n",
       "    <tr>\n",
       "      <th>538321</th>\n",
       "      <td>581405</td>\n",
       "      <td>M</td>\n",
       "      <td>Manual</td>\n",
       "      <td>3</td>\n",
       "      <td>2022-12-08 13:50:00</td>\n",
       "      <td>0.42</td>\n",
       "      <td>13521.0</td>\n",
       "      <td>United Kingdom</td>\n",
       "      <td>1.26</td>\n",
       "      <td>2022</td>\n",
       "    </tr>\n",
       "    <tr>\n",
       "      <th>541541</th>\n",
       "      <td>C581499</td>\n",
       "      <td>M</td>\n",
       "      <td>Manual</td>\n",
       "      <td>-1</td>\n",
       "      <td>2022-12-09 10:28:00</td>\n",
       "      <td>224.69</td>\n",
       "      <td>15498.0</td>\n",
       "      <td>United Kingdom</td>\n",
       "      <td>-224.69</td>\n",
       "      <td>2022</td>\n",
       "    </tr>\n",
       "  </tbody>\n",
       "</table>\n",
       "<p>571 rows × 10 columns</p>\n",
       "</div>"
      ],
      "text/plain": [
       "       InvoiceNo StockCode Description  Quantity         InvoiceDate   \n",
       "2239      536569         M      Manual         1 2021-12-01 15:35:00  \\\n",
       "2250      536569         M      Manual         1 2021-12-01 15:35:00   \n",
       "5684      536865         M      Manual         1 2021-12-03 11:28:00   \n",
       "6798      536981         M      Manual         2 2021-12-03 14:26:00   \n",
       "7976      537077         M      Manual        12 2021-12-05 11:59:00   \n",
       "...          ...       ...         ...       ...                 ...   \n",
       "531432    580956         M      Manual         4 2022-12-06 14:23:00   \n",
       "533082   C581009         M      Manual        -1 2022-12-07 09:15:00   \n",
       "534308   C581145         M      Manual        -1 2022-12-07 13:48:00   \n",
       "538321    581405         M      Manual         3 2022-12-08 13:50:00   \n",
       "541541   C581499         M      Manual        -1 2022-12-09 10:28:00   \n",
       "\n",
       "        UnitPrice  CustomerID         Country  UnitPriceXQuantity  Year  \n",
       "2239         1.25     16274.0  United Kingdom                1.25  2021  \n",
       "2250        18.95     16274.0  United Kingdom               18.95  2021  \n",
       "5684         2.55         NaN  United Kingdom                2.55  2021  \n",
       "6798         0.85     14723.0  United Kingdom                1.70  2021  \n",
       "7976         0.42     17062.0  United Kingdom                5.04  2021  \n",
       "...           ...         ...             ...                 ...   ...  \n",
       "531432       1.25     17841.0  United Kingdom                5.00  2022  \n",
       "533082     125.00     16971.0  United Kingdom             -125.00  2022  \n",
       "534308       9.95     17490.0  United Kingdom               -9.95  2022  \n",
       "538321       0.42     13521.0  United Kingdom                1.26  2022  \n",
       "541541     224.69     15498.0  United Kingdom             -224.69  2022  \n",
       "\n",
       "[571 rows x 10 columns]"
      ]
     },
     "execution_count": 52,
     "metadata": {},
     "output_type": "execute_result"
    }
   ],
   "source": [
    "df[(df.StockCode == 'M')]"
   ]
  },
  {
   "cell_type": "code",
   "execution_count": 53,
   "id": "dde8887a",
   "metadata": {},
   "outputs": [
    {
     "data": {
      "text/plain": [
       "375.5663922942207"
      ]
     },
     "execution_count": 53,
     "metadata": {},
     "output_type": "execute_result"
    }
   ],
   "source": [
    "df[(df.StockCode == 'M')].UnitPrice.mean()"
   ]
  },
  {
   "cell_type": "code",
   "execution_count": 54,
   "id": "d95e4b14",
   "metadata": {},
   "outputs": [
    {
     "data": {
      "text/plain": [
       "4.611113626088513"
      ]
     },
     "execution_count": 54,
     "metadata": {},
     "output_type": "execute_result"
    }
   ],
   "source": [
    "df.UnitPrice.mean()"
   ]
  },
  {
   "cell_type": "code",
   "execution_count": 55,
   "id": "a87ba3d5",
   "metadata": {},
   "outputs": [
    {
     "data": {
      "text/html": [
       "<div>\n",
       "<style scoped>\n",
       "    .dataframe tbody tr th:only-of-type {\n",
       "        vertical-align: middle;\n",
       "    }\n",
       "\n",
       "    .dataframe tbody tr th {\n",
       "        vertical-align: top;\n",
       "    }\n",
       "\n",
       "    .dataframe thead th {\n",
       "        text-align: right;\n",
       "    }\n",
       "</style>\n",
       "<table border=\"1\" class=\"dataframe\">\n",
       "  <thead>\n",
       "    <tr style=\"text-align: right;\">\n",
       "      <th></th>\n",
       "      <th>InvoiceNo</th>\n",
       "      <th>StockCode</th>\n",
       "      <th>Description</th>\n",
       "      <th>Quantity</th>\n",
       "      <th>InvoiceDate</th>\n",
       "      <th>UnitPrice</th>\n",
       "      <th>CustomerID</th>\n",
       "      <th>Country</th>\n",
       "      <th>UnitPriceXQuantity</th>\n",
       "      <th>Year</th>\n",
       "    </tr>\n",
       "  </thead>\n",
       "  <tbody>\n",
       "    <tr>\n",
       "      <th>14392</th>\n",
       "      <td>537534</td>\n",
       "      <td>M</td>\n",
       "      <td>Manual</td>\n",
       "      <td>1</td>\n",
       "      <td>2021-12-07 11:48:00</td>\n",
       "      <td>924.59</td>\n",
       "      <td>NaN</td>\n",
       "      <td>United Kingdom</td>\n",
       "      <td>924.59</td>\n",
       "      <td>2021</td>\n",
       "    </tr>\n",
       "    <tr>\n",
       "      <th>28994</th>\n",
       "      <td>C538682</td>\n",
       "      <td>M</td>\n",
       "      <td>Manual</td>\n",
       "      <td>-1</td>\n",
       "      <td>2021-12-13 17:14:00</td>\n",
       "      <td>1130.90</td>\n",
       "      <td>NaN</td>\n",
       "      <td>United Kingdom</td>\n",
       "      <td>-1130.90</td>\n",
       "      <td>2021</td>\n",
       "    </tr>\n",
       "    <tr>\n",
       "      <th>41448</th>\n",
       "      <td>539856</td>\n",
       "      <td>M</td>\n",
       "      <td>Manual</td>\n",
       "      <td>1</td>\n",
       "      <td>2021-12-22 14:41:00</td>\n",
       "      <td>1298.40</td>\n",
       "      <td>NaN</td>\n",
       "      <td>United Kingdom</td>\n",
       "      <td>1298.40</td>\n",
       "      <td>2021</td>\n",
       "    </tr>\n",
       "    <tr>\n",
       "      <th>45622</th>\n",
       "      <td>C540271</td>\n",
       "      <td>M</td>\n",
       "      <td>Manual</td>\n",
       "      <td>-1</td>\n",
       "      <td>2022-01-06 11:51:00</td>\n",
       "      <td>1126.00</td>\n",
       "      <td>12503.0</td>\n",
       "      <td>Spain</td>\n",
       "      <td>-1126.00</td>\n",
       "      <td>2022</td>\n",
       "    </tr>\n",
       "    <tr>\n",
       "      <th>64570</th>\n",
       "      <td>C541651</td>\n",
       "      <td>M</td>\n",
       "      <td>Manual</td>\n",
       "      <td>-1</td>\n",
       "      <td>2022-01-20 11:48:00</td>\n",
       "      <td>1283.80</td>\n",
       "      <td>NaN</td>\n",
       "      <td>United Kingdom</td>\n",
       "      <td>-1283.80</td>\n",
       "      <td>2022</td>\n",
       "    </tr>\n",
       "    <tr>\n",
       "      <th>...</th>\n",
       "      <td>...</td>\n",
       "      <td>...</td>\n",
       "      <td>...</td>\n",
       "      <td>...</td>\n",
       "      <td>...</td>\n",
       "      <td>...</td>\n",
       "      <td>...</td>\n",
       "      <td>...</td>\n",
       "      <td>...</td>\n",
       "      <td>...</td>\n",
       "    </tr>\n",
       "    <tr>\n",
       "      <th>422375</th>\n",
       "      <td>C573079</td>\n",
       "      <td>M</td>\n",
       "      <td>Manual</td>\n",
       "      <td>-2</td>\n",
       "      <td>2022-10-27 14:15:00</td>\n",
       "      <td>4161.06</td>\n",
       "      <td>12536.0</td>\n",
       "      <td>France</td>\n",
       "      <td>-8322.12</td>\n",
       "      <td>2022</td>\n",
       "    </tr>\n",
       "    <tr>\n",
       "      <th>422376</th>\n",
       "      <td>573080</td>\n",
       "      <td>M</td>\n",
       "      <td>Manual</td>\n",
       "      <td>1</td>\n",
       "      <td>2022-10-27 14:20:00</td>\n",
       "      <td>4161.06</td>\n",
       "      <td>12536.0</td>\n",
       "      <td>France</td>\n",
       "      <td>4161.06</td>\n",
       "      <td>2022</td>\n",
       "    </tr>\n",
       "    <tr>\n",
       "      <th>424470</th>\n",
       "      <td>C573268</td>\n",
       "      <td>M</td>\n",
       "      <td>Manual</td>\n",
       "      <td>-1</td>\n",
       "      <td>2022-10-28 12:50:00</td>\n",
       "      <td>907.00</td>\n",
       "      <td>12748.0</td>\n",
       "      <td>United Kingdom</td>\n",
       "      <td>-907.00</td>\n",
       "      <td>2022</td>\n",
       "    </tr>\n",
       "    <tr>\n",
       "      <th>468046</th>\n",
       "      <td>576389</td>\n",
       "      <td>M</td>\n",
       "      <td>Manual</td>\n",
       "      <td>1</td>\n",
       "      <td>2022-11-15 10:05:00</td>\n",
       "      <td>850.50</td>\n",
       "      <td>12748.0</td>\n",
       "      <td>United Kingdom</td>\n",
       "      <td>850.50</td>\n",
       "      <td>2022</td>\n",
       "    </tr>\n",
       "    <tr>\n",
       "      <th>481174</th>\n",
       "      <td>C577348</td>\n",
       "      <td>M</td>\n",
       "      <td>Manual</td>\n",
       "      <td>-1</td>\n",
       "      <td>2022-11-18 15:30:00</td>\n",
       "      <td>1149.98</td>\n",
       "      <td>NaN</td>\n",
       "      <td>United Kingdom</td>\n",
       "      <td>-1149.98</td>\n",
       "      <td>2022</td>\n",
       "    </tr>\n",
       "  </tbody>\n",
       "</table>\n",
       "<p>65 rows × 10 columns</p>\n",
       "</div>"
      ],
      "text/plain": [
       "       InvoiceNo StockCode Description  Quantity         InvoiceDate   \n",
       "14392     537534         M      Manual         1 2021-12-07 11:48:00  \\\n",
       "28994    C538682         M      Manual        -1 2021-12-13 17:14:00   \n",
       "41448     539856         M      Manual         1 2021-12-22 14:41:00   \n",
       "45622    C540271         M      Manual        -1 2022-01-06 11:51:00   \n",
       "64570    C541651         M      Manual        -1 2022-01-20 11:48:00   \n",
       "...          ...       ...         ...       ...                 ...   \n",
       "422375   C573079         M      Manual        -2 2022-10-27 14:15:00   \n",
       "422376    573080         M      Manual         1 2022-10-27 14:20:00   \n",
       "424470   C573268         M      Manual        -1 2022-10-28 12:50:00   \n",
       "468046    576389         M      Manual         1 2022-11-15 10:05:00   \n",
       "481174   C577348         M      Manual        -1 2022-11-18 15:30:00   \n",
       "\n",
       "        UnitPrice  CustomerID         Country  UnitPriceXQuantity  Year  \n",
       "14392      924.59         NaN  United Kingdom              924.59  2021  \n",
       "28994     1130.90         NaN  United Kingdom            -1130.90  2021  \n",
       "41448     1298.40         NaN  United Kingdom             1298.40  2021  \n",
       "45622     1126.00     12503.0           Spain            -1126.00  2022  \n",
       "64570     1283.80         NaN  United Kingdom            -1283.80  2022  \n",
       "...           ...         ...             ...                 ...   ...  \n",
       "422375    4161.06     12536.0          France            -8322.12  2022  \n",
       "422376    4161.06     12536.0          France             4161.06  2022  \n",
       "424470     907.00     12748.0  United Kingdom             -907.00  2022  \n",
       "468046     850.50     12748.0  United Kingdom              850.50  2022  \n",
       "481174    1149.98         NaN  United Kingdom            -1149.98  2022  \n",
       "\n",
       "[65 rows x 10 columns]"
      ]
     },
     "execution_count": 55,
     "metadata": {},
     "output_type": "execute_result"
    }
   ],
   "source": [
    "df[(df.StockCode == 'M')&(df.UnitPrice > 750)]"
   ]
  },
  {
   "cell_type": "code",
   "execution_count": 56,
   "id": "71c3e008",
   "metadata": {},
   "outputs": [
    {
     "data": {
      "text/plain": [
       "38"
      ]
     },
     "execution_count": 56,
     "metadata": {},
     "output_type": "execute_result"
    }
   ],
   "source": [
    "df[(df.StockCode == 'M')&(df.UnitPrice > 750)&(df.Quantity < 0)].UnitPrice.count()"
   ]
  },
  {
   "cell_type": "code",
   "execution_count": 57,
   "id": "9909336f",
   "metadata": {},
   "outputs": [
    {
     "data": {
      "text/html": [
       "<div>\n",
       "<style scoped>\n",
       "    .dataframe tbody tr th:only-of-type {\n",
       "        vertical-align: middle;\n",
       "    }\n",
       "\n",
       "    .dataframe tbody tr th {\n",
       "        vertical-align: top;\n",
       "    }\n",
       "\n",
       "    .dataframe thead th {\n",
       "        text-align: right;\n",
       "    }\n",
       "</style>\n",
       "<table border=\"1\" class=\"dataframe\">\n",
       "  <thead>\n",
       "    <tr style=\"text-align: right;\">\n",
       "      <th></th>\n",
       "      <th>InvoiceNo</th>\n",
       "      <th>StockCode</th>\n",
       "      <th>Description</th>\n",
       "      <th>Quantity</th>\n",
       "      <th>InvoiceDate</th>\n",
       "      <th>UnitPrice</th>\n",
       "      <th>CustomerID</th>\n",
       "      <th>Country</th>\n",
       "      <th>UnitPriceXQuantity</th>\n",
       "      <th>Year</th>\n",
       "    </tr>\n",
       "  </thead>\n",
       "  <tbody>\n",
       "    <tr>\n",
       "      <th>222680</th>\n",
       "      <td>556444</td>\n",
       "      <td>22502</td>\n",
       "      <td>PICNIC BASKET WICKER 60 PIECES</td>\n",
       "      <td>60</td>\n",
       "      <td>2022-06-10 15:28:00</td>\n",
       "      <td>649.5</td>\n",
       "      <td>15098.0</td>\n",
       "      <td>United Kingdom</td>\n",
       "      <td>38970.0</td>\n",
       "      <td>2022</td>\n",
       "    </tr>\n",
       "    <tr>\n",
       "      <th>222681</th>\n",
       "      <td>C556445</td>\n",
       "      <td>M</td>\n",
       "      <td>Manual</td>\n",
       "      <td>-1</td>\n",
       "      <td>2022-06-10 15:31:00</td>\n",
       "      <td>38970.0</td>\n",
       "      <td>15098.0</td>\n",
       "      <td>United Kingdom</td>\n",
       "      <td>-38970.0</td>\n",
       "      <td>2022</td>\n",
       "    </tr>\n",
       "  </tbody>\n",
       "</table>\n",
       "</div>"
      ],
      "text/plain": [
       "       InvoiceNo StockCode                     Description  Quantity   \n",
       "222680    556444     22502  PICNIC BASKET WICKER 60 PIECES        60  \\\n",
       "222681   C556445         M                          Manual        -1   \n",
       "\n",
       "               InvoiceDate  UnitPrice  CustomerID         Country   \n",
       "222680 2022-06-10 15:28:00      649.5     15098.0  United Kingdom  \\\n",
       "222681 2022-06-10 15:31:00    38970.0     15098.0  United Kingdom   \n",
       "\n",
       "        UnitPriceXQuantity  Year  \n",
       "222680             38970.0  2022  \n",
       "222681            -38970.0  2022  "
      ]
     },
     "execution_count": 57,
     "metadata": {},
     "output_type": "execute_result"
    }
   ],
   "source": [
    "## We see that there is inconsistency in the data!!!\n",
    "## We must consult before accepting our sales analysis!!!\n",
    "df[abs(df.UnitPriceXQuantity) == 38970.00] #38970.00"
   ]
  },
  {
   "cell_type": "code",
   "execution_count": 58,
   "id": "fc430945",
   "metadata": {},
   "outputs": [
    {
     "data": {
      "text/plain": [
       "9575.36"
      ]
     },
     "execution_count": 58,
     "metadata": {},
     "output_type": "execute_result"
    }
   ],
   "source": [
    "df[(df.Country == 'France') & (df.Year == 2021)].UnitPriceXQuantity.sum()"
   ]
  },
  {
   "cell_type": "code",
   "execution_count": 59,
   "id": "b568f71e",
   "metadata": {},
   "outputs": [
    {
     "data": {
      "text/plain": [
       "187828.54"
      ]
     },
     "execution_count": 59,
     "metadata": {},
     "output_type": "execute_result"
    }
   ],
   "source": [
    "df[(df.Country == 'France') & (df.Year == 2022)].UnitPriceXQuantity.sum()"
   ]
  },
  {
   "cell_type": "code",
   "execution_count": 64,
   "id": "cbe0308a",
   "metadata": {},
   "outputs": [
    {
     "data": {
      "text/plain": [
       "178253.18"
      ]
     },
     "execution_count": 64,
     "metadata": {},
     "output_type": "execute_result"
    }
   ],
   "source": [
    "df[(df.Country == 'France') & (df.Year == 2022)].UnitPriceXQuantity.sum() - df[(df.Country == 'France') & (df.Year == 2021)].UnitPriceXQuantity.sum()"
   ]
  },
  {
   "cell_type": "code",
   "execution_count": 61,
   "id": "1ebcd587",
   "metadata": {},
   "outputs": [
    {
     "data": {
      "text/plain": [
       "207135.37"
      ]
     },
     "execution_count": 61,
     "metadata": {},
     "output_type": "execute_result"
    }
   ],
   "source": [
    "df[(df.Country == 'Germany') & (df.Year == 2022)].UnitPriceXQuantity.sum()"
   ]
  },
  {
   "cell_type": "code",
   "execution_count": 62,
   "id": "733418e3",
   "metadata": {},
   "outputs": [
    {
     "data": {
      "text/plain": [
       "14562.84"
      ]
     },
     "execution_count": 62,
     "metadata": {},
     "output_type": "execute_result"
    }
   ],
   "source": [
    "df[(df.Country == 'Germany') & (df.Year == 2021)].UnitPriceXQuantity.sum()"
   ]
  },
  {
   "cell_type": "code",
   "execution_count": 63,
   "id": "43b8151c",
   "metadata": {},
   "outputs": [
    {
     "data": {
      "text/plain": [
       "192572.53"
      ]
     },
     "execution_count": 63,
     "metadata": {},
     "output_type": "execute_result"
    }
   ],
   "source": [
    "df[(df.Country == 'Germany') & (df.Year == 2022)].UnitPriceXQuantity.sum() - df[(df.Country == 'Germany') & (df.Year == 2021)].UnitPriceXQuantity.sum()"
   ]
  },
  {
   "cell_type": "markdown",
   "id": "cd19883e",
   "metadata": {},
   "source": [
    "In conclusion, Germany has more sales than France, but the difference is not significant."
   ]
  },
  {
   "cell_type": "code",
   "execution_count": null,
   "id": "b9049eaf",
   "metadata": {},
   "outputs": [],
   "source": []
  }
 ],
 "metadata": {
  "kernelspec": {
   "display_name": "Python 3 (ipykernel)",
   "language": "python",
   "name": "python3"
  },
  "language_info": {
   "codemirror_mode": {
    "name": "ipython",
    "version": 3
   },
   "file_extension": ".py",
   "mimetype": "text/x-python",
   "name": "python",
   "nbconvert_exporter": "python",
   "pygments_lexer": "ipython3",
   "version": "3.10.9"
  }
 },
 "nbformat": 4,
 "nbformat_minor": 5
}
