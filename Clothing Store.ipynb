{
 "cells": [
  {
   "cell_type": "markdown",
   "id": "ef930700",
   "metadata": {},
   "source": [
    "We are contacted by a store to analyze some of their sales data. Each sale is stored in dictionary format and all of them are stored in a list called 'sales'. They ask us for the following:\n",
    "\n",
    "1.- Calculates and shows the total sales made during the period of time represented by the data.\n",
    "\n",
    "2.- Create a dictionary that contains the number of products sold for each type of product.\n",
    "\n",
    "3.- Shows the type of product with the highest number of sales and the type of product with the lowest number of sales.\n",
    "\n",
    "4.- Shows the total sales made for each month of the time period represented by the data."
   ]
  },
  {
   "cell_type": "code",
   "execution_count": 2,
   "id": "dfb3fca3",
   "metadata": {},
   "outputs": [],
   "source": [
    "ventas = [\n",
    "    {'fecha': '2022-01-01', 'producto': 'Camisa', 'precio': 40, 'cantidad': 2, 'total': 80},\n",
    "    {'fecha': '2022-01-03', 'producto': 'Falda', 'precio': 60, 'cantidad': 1, 'total': 60},\n",
    "    {'fecha': '2022-02-01', 'producto': 'Camisa', 'precio': 40, 'cantidad': 3, 'total': 120},\n",
    "    {'fecha': '2022-03-01', 'producto': 'Pantalón', 'precio': 60, 'cantidad': 2, 'total': 120},\n",
    "    {'fecha': '2022-03-15', 'producto': 'Camisa', 'precio': 40, 'cantidad': 1, 'total': 40},    \n",
    "    {'fecha': '2022-03-01', 'producto': 'calcetines', 'precio': 60, 'cantidad': 2, 'total': 120},\n",
    "    {'fecha': '2022-04-15', 'producto': 'Camisa', 'precio': 40, 'cantidad': 5, 'total': 200},\n",
    "    {'fecha': '2022-04-15', 'producto': 'Falda', 'precio': 40, 'cantidad': 3, 'total': 120}]\n"
   ]
  },
  {
   "cell_type": "markdown",
   "id": "87ca8581",
   "metadata": {},
   "source": [
    "1.- Calculates and shows the total sales made during the period of time represented by the data."
   ]
  },
  {
   "cell_type": "code",
   "execution_count": 3,
   "id": "6f952d0b",
   "metadata": {},
   "outputs": [
    {
     "name": "stdout",
     "output_type": "stream",
     "text": [
      "Total de ventas: 860\n"
     ]
    }
   ],
   "source": [
    "total_ventas = 0\n",
    "for venta in ventas:\n",
    "    total_ventas += venta['total']\n",
    "    \n",
    "print(\"Total de ventas:\", total_ventas)"
   ]
  },
  {
   "cell_type": "markdown",
   "id": "c643cbd8",
   "metadata": {},
   "source": [
    "2.- Create a dictionary that contains the number of products sold for each type of product."
   ]
  },
  {
   "cell_type": "code",
   "execution_count": 4,
   "id": "a077db1f",
   "metadata": {},
   "outputs": [
    {
     "name": "stdout",
     "output_type": "stream",
     "text": [
      "Cantidad de productos vendidos por tipo: {'Camisa': 11, 'Falda': 4, 'Pantalón': 2, 'calcetines': 2}\n"
     ]
    }
   ],
   "source": [
    "productos_vendidos = {}\n",
    "\n",
    "for venta in ventas:\n",
    "    producto = venta['producto']\n",
    "    if producto in productos_vendidos:\n",
    "        productos_vendidos[producto] += venta['cantidad']\n",
    "    else:\n",
    "        productos_vendidos[producto] = venta['cantidad']\n",
    "print(\"Cantidad de productos vendidos por tipo:\", productos_vendidos)"
   ]
  },
  {
   "cell_type": "markdown",
   "id": "4e87cc0d",
   "metadata": {},
   "source": [
    "3.- Shows the type of product with the highest number of sales and the type of product with the lowest number of sales."
   ]
  },
  {
   "cell_type": "code",
   "execution_count": 5,
   "id": "093a1878",
   "metadata": {},
   "outputs": [
    {
     "name": "stdout",
     "output_type": "stream",
     "text": [
      "Productos con mayor cantidad de ventas: ['Camisa']\n",
      "Productos con menor cantidad de ventas: ['Pantalón', 'calcetines']\n"
     ]
    }
   ],
   "source": [
    "producto_mayor_ventas = []\n",
    "cantidad_mayor_ventas = 0\n",
    "producto_menor_ventas = []\n",
    "cantidad_menor_ventas = float('inf')\n",
    "\n",
    "for producto, cantidad in productos_vendidos.items():\n",
    "    if cantidad > cantidad_mayor_ventas:\n",
    "        producto_mayor_ventas = [producto]\n",
    "        cantidad_mayor_ventas = cantidad\n",
    "    elif cantidad == cantidad_mayor_ventas:\n",
    "        producto_mayor_ventas.append(producto)\n",
    "    if cantidad < cantidad_menor_ventas:\n",
    "        producto_menor_ventas = [producto]\n",
    "        cantidad_menor_ventas = cantidad\n",
    "    elif cantidad == cantidad_menor_ventas:\n",
    "        producto_menor_ventas.append(producto)\n",
    "        \n",
    "        \n",
    "print(\"Productos con mayor cantidad de ventas:\", producto_mayor_ventas)\n",
    "print(\"Productos con menor cantidad de ventas:\", producto_menor_ventas)"
   ]
  },
  {
   "cell_type": "markdown",
   "id": "92e596f4",
   "metadata": {},
   "source": [
    "4.- Shows the total sales made for each month of the time period represented by the data."
   ]
  },
  {
   "cell_type": "code",
   "execution_count": 6,
   "id": "9c8f9a0c",
   "metadata": {},
   "outputs": [
    {
     "name": "stdout",
     "output_type": "stream",
     "text": [
      "Total de ventas por mes: {'01': 140, '02': 120, '03': 280, '04': 320}\n"
     ]
    }
   ],
   "source": [
    "ventas_por_mes = {}\n",
    "\n",
    "for venta in ventas:\n",
    "    mes = venta['fecha'][5:7]\n",
    "    if mes in ventas_por_mes:\n",
    "        ventas_por_mes[mes] += venta['total']\n",
    "    else:\n",
    "        ventas_por_mes[mes] = venta['total']\n",
    "        \n",
    "print(\"Total de ventas por mes:\", ventas_por_mes)"
   ]
  },
  {
   "cell_type": "markdown",
   "id": "7f38e30e",
   "metadata": {},
   "source": [
    "5.- Transforms the calculation of sales per month into a function that we can use with new data for the months of April and May"
   ]
  },
  {
   "cell_type": "code",
   "execution_count": 7,
   "id": "462f4855",
   "metadata": {},
   "outputs": [],
   "source": [
    "def ventas_por_mes(ventas):\n",
    "    ventas_por_mes = {}\n",
    "    try:\n",
    "        for ventas in ventas:\n",
    "             mes = venta['fecha'][5:7]\n",
    "        if mes in ventas_por_mes:\n",
    "            ventas_por_mes[mes] += venta['total']\n",
    "        else:\n",
    "            ventas_por_mes[mes] = venta['total']\n",
    "    except Expception as e:\n",
    "        print(f\"Error al procesar venta: {e}\")\n",
    "    return ventas_por_mes"
   ]
  },
  {
   "cell_type": "code",
   "execution_count": 8,
   "id": "f0d6c94b",
   "metadata": {},
   "outputs": [],
   "source": [
    "#we check\n",
    "ventas =[{'fecha': '2022-01-01', 'producto': 'Camisa', 'precio': 40, 'cantidad': 2, 'total': 80},\n",
    "    {'fecha': '2022-01-03', 'producto': 'Falda', 'precio': 60, 'cantidad': 1, 'total': 60},\n",
    "    {'fecha': '2022-02-01', 'producto': 'Camisa', 'precio': 40, 'cantidad': 3, 'total': 120},\n",
    "    {'fecha': '2022-03-01', 'producto': 'Pantalón', 'precio': 60, 'cantidad': 2, 'total': 120},\n",
    "    {'fecha': '2022-03-15', 'producto': 'Camisa', 'precio': 40, 'cantidad': 1, 'total': 40},    \n",
    "    {'fecha': '2022-03-01', 'producto': 'calcetines', 'precio': 60, 'cantidad': 2, 'total': 120},\n",
    "    {'fecha': '2022-04-15', 'producto': 'Camisa', 'precio': 40, 'cantidad': 5, 'total': 200},\n",
    "    {'fecha': '2022-04-15', 'producto': 'Falda', 'precio': 40, 'cantidad': 3, 'total': 120},\n",
    "    {'fecha': '2022-04-01', 'total': 100},{'fecha': '2022-04-15', 'total': 200},{'fecha': '2022-05-01', 'total': 300},\n",
    "{'fecha': '2022-05-15', 'total': 400}]\n",
    "\n"
   ]
  },
  {
   "cell_type": "code",
   "execution_count": 11,
   "id": "1bc67044",
   "metadata": {},
   "outputs": [],
   "source": [
    "totales = ventas_por_mes(ventas)"
   ]
  },
  {
   "cell_type": "code",
   "execution_count": 10,
   "id": "f3d78cfb",
   "metadata": {},
   "outputs": [
    {
     "name": "stdout",
     "output_type": "stream",
     "text": [
      "Total de ventas por mes: <function ventas_por_mes at 0x0000019554F7A170>\n"
     ]
    }
   ],
   "source": [
    "print(\"To\")"
   ]
  },
  {
   "cell_type": "code",
   "execution_count": null,
   "id": "2097478d",
   "metadata": {},
   "outputs": [],
   "source": []
  },
  {
   "cell_type": "code",
   "execution_count": null,
   "id": "03a8f900",
   "metadata": {},
   "outputs": [],
   "source": []
  }
 ],
 "metadata": {
  "kernelspec": {
   "display_name": "Python 3 (ipykernel)",
   "language": "python",
   "name": "python3"
  },
  "language_info": {
   "codemirror_mode": {
    "name": "ipython",
    "version": 3
   },
   "file_extension": ".py",
   "mimetype": "text/x-python",
   "name": "python",
   "nbconvert_exporter": "python",
   "pygments_lexer": "ipython3",
   "version": "3.10.9"
  }
 },
 "nbformat": 4,
 "nbformat_minor": 5
}
